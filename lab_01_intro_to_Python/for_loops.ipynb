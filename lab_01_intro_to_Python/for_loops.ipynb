{
 "cells": [
  {
   "cell_type": "markdown",
   "metadata": {},
   "source": [
    "## For Loops in Python"
   ]
  },
  {
   "cell_type": "markdown",
   "metadata": {},
   "source": [
    "`for` loops are foundational in any programming language.  `for` loops in Python have much less syntax than other languages.  In C, you have\n",
    "\n",
    "~~~\n",
    "int i;\n",
    "for (i=0;i<10;i++){\n",
    "   printf(\"i = %d\" % i);\n",
    "}\n",
    "~~~\n",
    "\n",
    "You need the curly brackets and all three conditions (start, stop, and step).\n",
    "\n",
    "In Python, it is much simpler:"
   ]
  },
  {
   "cell_type": "markdown",
   "metadata": {},
   "source": [
    "(execute this code by pressing shift+enter when the cell is active)"
   ]
  },
  {
   "cell_type": "code",
   "execution_count": null,
   "metadata": {},
   "outputs": [],
   "source": [
    "for i in range(10):\n",
    "    print(\"i = %d\" % i)\n",
    "print(\"after the loop\")"
   ]
  },
  {
   "cell_type": "markdown",
   "metadata": {},
   "source": [
    "Note that there is no nead for curly brackets.  The contents of the `for` loop are tabbed in and when you get to the end of the loop, you tab out.  Also note that the `range` function takes care of the start, stop, and step of the loop:"
   ]
  },
  {
   "cell_type": "code",
   "execution_count": null,
   "metadata": {},
   "outputs": [],
   "source": [
    "help(range)"
   ]
  },
  {
   "cell_type": "markdown",
   "metadata": {},
   "source": [
    "Essentally, `range(10)` produces a sequence of numbers from 0 to 9 in steps of 1.  Note that `range(n)` stops as `n-1`.  Also note that  `range` can take an optional starting number:"
   ]
  },
  {
   "cell_type": "code",
   "execution_count": null,
   "metadata": {},
   "outputs": [],
   "source": [
    "for i in range(2,5):\n",
    "    print(\"i = %d\" % i)\n",
    "print(\"after the loop\")"
   ]
  },
  {
   "cell_type": "markdown",
   "metadata": {},
   "source": [
    "So, `range(n,m)` produces the sequence from `n` to `m-1`."
   ]
  },
  {
   "cell_type": "markdown",
   "metadata": {},
   "source": [
    "### Looping over a list"
   ]
  },
  {
   "cell_type": "markdown",
   "metadata": {},
   "source": [
    "One of the really powerful, but possibly confusing, ways to use a `for` loop in Python is simply to loop over a list:"
   ]
  },
  {
   "cell_type": "code",
   "execution_count": 4,
   "metadata": {},
   "outputs": [
    {
     "name": "stdout",
     "output_type": "stream",
     "text": [
      "item = 1\n",
      "item = 2\n",
      "item = a\n",
      "item = hello\n",
      "after the loop\n"
     ]
    }
   ],
   "source": [
    "mylist = [1,2,'a','hello']\n",
    "\n",
    "for item in mylist:\n",
    "    print('item = %s' % item)\n",
    "print(\"after the loop\")"
   ]
  },
  {
   "cell_type": "markdown",
   "metadata": {},
   "source": [
    "Note that there is no need to create the index `i` and that the `for` loop automatically loops over each item in the list and stops at the end of the list."
   ]
  },
  {
   "cell_type": "markdown",
   "metadata": {},
   "source": [
    "### Enumerate\n",
    "\n",
    "Sometimes you have a list of items but also need to use a loop index.  The `enumerate` function handles this for you by iterating over the items but also incrementing a loop index:"
   ]
  },
  {
   "cell_type": "markdown",
   "metadata": {},
   "source": [
    "**Note:** I am reuing `mylist` from above."
   ]
  },
  {
   "cell_type": "code",
   "execution_count": 9,
   "metadata": {},
   "outputs": [
    {
     "data": {
      "text/plain": [
       "[1, 2, 'a', 'hello']"
      ]
     },
     "execution_count": 9,
     "metadata": {},
     "output_type": "execute_result"
    }
   ],
   "source": [
    "mylist"
   ]
  },
  {
   "cell_type": "code",
   "execution_count": null,
   "metadata": {},
   "outputs": [],
   "source": [
    "for i, item in enumerate(mylist):\n",
    "    print('i = %d' % i)\n",
    "    print('item = %s' % item)\n",
    "    print('==========')\n",
    "print(\"after the loop\")"
   ]
  },
  {
   "cell_type": "markdown",
   "metadata": {},
   "source": [
    "## Exercises"
   ]
  },
  {
   "cell_type": "markdown",
   "metadata": {},
   "source": [
    "- Create a `for` loop that loops over the integers from 1-20 and prints the index `i` as well as $i^2$ (the index squared) each time through the loop"
   ]
  },
  {
   "cell_type": "code",
   "execution_count": null,
   "metadata": {},
   "outputs": [],
   "source": []
  }
 ],
 "metadata": {
  "kernelspec": {
   "display_name": "Python 3",
   "language": "python",
   "name": "python3"
  },
  "language_info": {
   "codemirror_mode": {
    "name": "ipython",
    "version": 3
   },
   "file_extension": ".py",
   "mimetype": "text/x-python",
   "name": "python",
   "nbconvert_exporter": "python",
   "pygments_lexer": "ipython3",
   "version": "3.9.13"
  }
 },
 "nbformat": 4,
 "nbformat_minor": 2
}
