{
 "cells": [
  {
   "cell_type": "markdown",
   "id": "amber-packaging",
   "metadata": {},
   "source": [
    "# Lab 1: Intro to Python"
   ]
  },
  {
   "cell_type": "markdown",
   "id": "mental-input",
   "metadata": {},
   "source": [
    "## Step 0: Install Anaconda"
   ]
  },
  {
   "cell_type": "markdown",
   "id": "compound-pressing",
   "metadata": {},
   "source": [
    "- see the notes on Blackboard under `python_stuff`"
   ]
  },
  {
   "cell_type": "markdown",
   "id": "general-spectrum",
   "metadata": {},
   "source": [
    "## Main Topics\n",
    "\n",
    "- basic syntax and creating variables\n",
    "- working with Jupyter Notebooks\n",
    "- `for` loops\n",
    "- `if/then` statements\n",
    "- plotting\n",
    "- working with data\n"
   ]
  },
  {
   "cell_type": "markdown",
   "id": "respected-modification",
   "metadata": {},
   "source": [
    "## Step 1: Presentations by Dr. Krauss\n",
    "\n",
    "Download and follow along:\n",
    "\n",
    "- [intro_to_Python.ipynb](intro_to_Python.ipynb)\n",
    "- [intro_to_scientific_and_engineering_python.ipynb](intro_to_scientific_and_engineering_python.ipynb)"
   ]
  },
  {
   "cell_type": "markdown",
   "id": "national-multiple",
   "metadata": {},
   "source": [
    "## Step 2: Notebooks to read and work through on your own\n",
    "\n",
    "- [for_loops.ipynb](for_loops.ipynb)\n",
    "- [plotting_with_matplotlib.ipynb](plotting_with_matplotlib.ipynb)"
   ]
  },
  {
   "cell_type": "markdown",
   "id": "centered-proposition",
   "metadata": {},
   "source": [
    "## Step 3: First Batch of Tasks"
   ]
  },
  {
   "cell_type": "markdown",
   "id": "processed-airport",
   "metadata": {},
   "source": [
    "### Task 1: Plotting\n",
    "\n",
    "- generate a plot of a sine wave vs. time:\n",
    "    - create a time vector using `np.arange`\n",
    "    - use `plt.figure` and `plt.plot` to create the graph\n",
    "    - also use `plt.xlabel`, `plt.ylabel`, and `plt.title` to complete the plot\n",
    "\n",
    "### Task 2: loadtxt and for loops\n",
    "\n",
    "- write Python code that finds all of the `*.csv` files in a folder, loads each `*.csv` file into an array, and then generates on plot per file\n",
    "    - assume each `*.csv` file contains data in columns where the first column is time\n",
    "    - plot the remaining columns vs. time on one plot\n",
    "    - the data files may have different numbers of columns in them\n",
    "\n",
    "- Here are links to three csv files:\n",
    "    - [data file 1](https://drive.google.com/open?id=1M8q4apJsByw8Lz5rE_-nCBfUYUDNwdeW)\n",
    "    - [data file 2](https://drive.google.com/open?id=1WCuNvv6sNyRbhnU539Dz1A8OiTnckNTf)\n",
    "    - [data file 3](https://drive.google.com/open?id=1paEQqDaofhXamcp2qhhYxuGin9MHQt9Q)\n",
    "\n",
    "\n",
    "- download all three files to the same folder\n",
    "- use `glob.glob` to find all of the `*.csv` files in a given folder\n",
    "- use `np.loadtxt` to load the data from one `*.csv` file into an array\n",
    "- use `plt.figure`, `plt.plot`, ... to generate the plots\n",
    "\n",
    "\n",
    "### Task 3: Writing a Function\n",
    "\n",
    "- create a function that takes the coefficient $p$ as its input and\n",
    "  returns the step response of the corresponding first order transfer\n",
    "  function $G(s)$:\n",
    "  \n",
    "$$G(s) = \\frac{p}{s+p}$$\n",
    "\n",
    "- then call your function inside of a `for` loop and overlay the step responses for three different values of $p$: `[1,5,30]`\n",
    "- in order to complete this task, you will need to install the\n",
    "  `python-control` module using the command `pip install python-control`\n",
    "    - windows users should use the `Anaconda Prompt`\n",
    "\t- mac users should use the terminal\n",
    "- use the function `control.TransferFunction` to create $G(s)$\n",
    "- use the function `control.step_response` to find the step response\n",
    "\n"
   ]
  },
  {
   "cell_type": "code",
   "execution_count": 1,
   "id": "floating-parallel",
   "metadata": {},
   "outputs": [
    {
     "name": "stdout",
     "output_type": "stream",
     "text": [
      "\u001b[33mDEPRECATION: Configuring installation scheme with distutils config files is deprecated and will no longer work in the near future. If you are using a Homebrew or Linuxbrew Python, please see discussion at https://github.com/Homebrew/homebrew-core/issues/76621\u001b[0m\u001b[33m\n",
      "\u001b[0mRequirement already satisfied: control in /usr/local/lib/python3.9/site-packages (0.9.0)\n",
      "Requirement already satisfied: scipy in /usr/local/lib/python3.9/site-packages (from control) (1.6.0)\n",
      "Requirement already satisfied: numpy in /usr/local/lib/python3.9/site-packages (from control) (1.20.1)\n",
      "Requirement already satisfied: matplotlib in /usr/local/lib/python3.9/site-packages (from control) (3.3.4)\n",
      "Requirement already satisfied: pyparsing!=2.0.4,!=2.1.2,!=2.1.6,>=2.0.3 in /usr/local/lib/python3.9/site-packages (from matplotlib->control) (2.4.7)\n",
      "Requirement already satisfied: pillow>=6.2.0 in /usr/local/lib/python3.9/site-packages (from matplotlib->control) (8.1.0)\n",
      "Requirement already satisfied: cycler>=0.10 in /usr/local/lib/python3.9/site-packages (from matplotlib->control) (0.10.0)\n",
      "Requirement already satisfied: python-dateutil>=2.1 in /usr/local/lib/python3.9/site-packages (from matplotlib->control) (2.8.1)\n",
      "Requirement already satisfied: kiwisolver>=1.0.1 in /usr/local/lib/python3.9/site-packages (from matplotlib->control) (1.3.1)\n",
      "Requirement already satisfied: six in /usr/local/lib/python3.9/site-packages (from cycler>=0.10->matplotlib->control) (1.15.0)\n",
      "\u001b[33mDEPRECATION: Configuring installation scheme with distutils config files is deprecated and will no longer work in the near future. If you are using a Homebrew or Linuxbrew Python, please see discussion at https://github.com/Homebrew/homebrew-core/issues/76621\u001b[0m\u001b[33m\n",
      "\u001b[0m\u001b[33mWARNING: There was an error checking the latest version of pip.\u001b[0m\u001b[33m\n",
      "\u001b[0mNote: you may need to restart the kernel to use updated packages.\n"
     ]
    }
   ],
   "source": [
    "pip install control"
   ]
  },
  {
   "cell_type": "markdown",
   "id": "mineral-target",
   "metadata": {},
   "source": [
    "## Step 4: Another Notebook to read and work through\n",
    "\n",
    "- extracting rows or columns from a 2d array is called indexing or slicing\n",
    "- Notebook: [slicing_and_indexing.ipynb](slicing_and_indexing.ipynb)"
   ]
  },
  {
   "cell_type": "markdown",
   "id": "wooden-juvenile",
   "metadata": {},
   "source": [
    "## Step 5: Final Task\n",
    "\n",
    "The data file [pendulum_data.txt](https://drive.google.com/file/d/1MZNa93gySaxxxyFrQjuEcecpSF2GvcQn/view?usp=sharing) contains data from the pendulum vibration suppression test we did in class.  Download the data and load it into Python using `np.loadtxt`.\n",
    "\n",
    "Analyze the data by creating several plots:\n",
    "\n",
    "- first, make a separate plot for each column of data\n",
    "    - extract the column label from the first row of the csv file and use the labels for the title of each plot\n",
    "- pick 3 columns to slice out from the data and overlay on one plot\n",
    "    - use the corresponding column labels in the legend for the plot"
   ]
  }
 ],
 "metadata": {
  "kernelspec": {
   "display_name": "Python 3",
   "language": "python",
   "name": "python3"
  },
  "language_info": {
   "codemirror_mode": {
    "name": "ipython",
    "version": 3
   },
   "file_extension": ".py",
   "mimetype": "text/x-python",
   "name": "python",
   "nbconvert_exporter": "python",
   "pygments_lexer": "ipython3",
   "version": "3.9.13"
  }
 },
 "nbformat": 4,
 "nbformat_minor": 5
}
