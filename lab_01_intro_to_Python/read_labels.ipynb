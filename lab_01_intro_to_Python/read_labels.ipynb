{
 "cells": [
  {
   "cell_type": "code",
   "execution_count": 1,
   "id": "absent-creativity",
   "metadata": {},
   "outputs": [
    {
     "name": "stdout",
     "output_type": "stream",
     "text": [
      "pendulum_data.txt\r\n"
     ]
    }
   ],
   "source": [
    "ls *.txt"
   ]
  },
  {
   "cell_type": "code",
   "execution_count": 2,
   "id": "classified-shopping",
   "metadata": {},
   "outputs": [],
   "source": [
    "fn = \"pendulum_data.txt\""
   ]
  },
  {
   "cell_type": "code",
   "execution_count": 8,
   "id": "vocal-liberal",
   "metadata": {},
   "outputs": [],
   "source": [
    "f = open(fn,'r')"
   ]
  },
  {
   "cell_type": "code",
   "execution_count": 9,
   "id": "operational-proposal",
   "metadata": {},
   "outputs": [
    {
     "data": {
      "text/plain": [
       "'i,t_ms,loop_count,sum_junct,D,adj_sat,gt_block,if_then,pend_enc\\n'"
      ]
     },
     "execution_count": 9,
     "metadata": {},
     "output_type": "execute_result"
    }
   ],
   "source": [
    "label_row = f.readline()\n",
    "label_row"
   ]
  },
  {
   "cell_type": "code",
   "execution_count": 10,
   "id": "documented-banner",
   "metadata": {},
   "outputs": [],
   "source": [
    "f.close()"
   ]
  },
  {
   "cell_type": "code",
   "execution_count": 11,
   "id": "traditional-toronto",
   "metadata": {},
   "outputs": [
    {
     "data": {
      "text/plain": [
       "'i,t_ms,loop_count,sum_junct,D,adj_sat,gt_block,if_then,pend_enc\\n'"
      ]
     },
     "execution_count": 11,
     "metadata": {},
     "output_type": "execute_result"
    }
   ],
   "source": [
    "label_row"
   ]
  },
  {
   "cell_type": "code",
   "execution_count": 12,
   "id": "clean-formation",
   "metadata": {},
   "outputs": [
    {
     "data": {
      "text/plain": [
       "'i,t_ms,loop_count,sum_junct,D,adj_sat,gt_block,if_then,pend_enc'"
      ]
     },
     "execution_count": 12,
     "metadata": {},
     "output_type": "execute_result"
    }
   ],
   "source": [
    "label_row = label_row.strip()\n",
    "label_row"
   ]
  },
  {
   "cell_type": "code",
   "execution_count": 13,
   "id": "literary-cornell",
   "metadata": {},
   "outputs": [
    {
     "data": {
      "text/plain": [
       "['i',\n",
       " 't_ms',\n",
       " 'loop_count',\n",
       " 'sum_junct',\n",
       " 'D',\n",
       " 'adj_sat',\n",
       " 'gt_block',\n",
       " 'if_then',\n",
       " 'pend_enc']"
      ]
     },
     "execution_count": 13,
     "metadata": {},
     "output_type": "execute_result"
    }
   ],
   "source": [
    "labels = label_row.split(',')\n",
    "labels"
   ]
  },
  {
   "cell_type": "code",
   "execution_count": null,
   "id": "extensive-learning",
   "metadata": {},
   "outputs": [],
   "source": []
  }
 ],
 "metadata": {
  "kernelspec": {
   "display_name": "Python 3",
   "language": "python",
   "name": "python3"
  },
  "language_info": {
   "codemirror_mode": {
    "name": "ipython",
    "version": 3
   },
   "file_extension": ".py",
   "mimetype": "text/x-python",
   "name": "python",
   "nbconvert_exporter": "python",
   "pygments_lexer": "ipython3",
   "version": "3.9.13"
  }
 },
 "nbformat": 4,
 "nbformat_minor": 5
}
