{
 "cells": [
  {
   "cell_type": "code",
   "execution_count": 1,
   "id": "sonic-matrix",
   "metadata": {},
   "outputs": [
    {
     "name": "stdout",
     "output_type": "stream",
     "text": [
      "pendulum_data.txt\r\n"
     ]
    }
   ],
   "source": [
    "ls *.txt"
   ]
  },
  {
   "cell_type": "code",
   "execution_count": 2,
   "id": "described-effect",
   "metadata": {},
   "outputs": [],
   "source": [
    "fn = \"pendulum_data.txt\""
   ]
  },
  {
   "cell_type": "code",
   "execution_count": 8,
   "id": "classical-hawaiian",
   "metadata": {},
   "outputs": [],
   "source": [
    "f = open(fn,'r')"
   ]
  },
  {
   "cell_type": "code",
   "execution_count": 9,
   "id": "available-stocks",
   "metadata": {},
   "outputs": [
    {
     "data": {
      "text/plain": [
       "'i,t_ms,loop_count,sum_junct,D,adj_sat,gt_block,if_then,pend_enc\\n'"
      ]
     },
     "execution_count": 9,
     "metadata": {},
     "output_type": "execute_result"
    }
   ],
   "source": [
    "label_row = f.readline()\n",
    "label_row"
   ]
  },
  {
   "cell_type": "code",
   "execution_count": 10,
   "id": "directed-woman",
   "metadata": {},
   "outputs": [],
   "source": [
    "f.close()"
   ]
  },
  {
   "cell_type": "code",
   "execution_count": 11,
   "id": "polish-permit",
   "metadata": {},
   "outputs": [
    {
     "data": {
      "text/plain": [
       "'i,t_ms,loop_count,sum_junct,D,adj_sat,gt_block,if_then,pend_enc\\n'"
      ]
     },
     "execution_count": 11,
     "metadata": {},
     "output_type": "execute_result"
    }
   ],
   "source": [
    "label_row"
   ]
  },
  {
   "cell_type": "code",
   "execution_count": 12,
   "id": "choice-guinea",
   "metadata": {},
   "outputs": [
    {
     "data": {
      "text/plain": [
       "'i,t_ms,loop_count,sum_junct,D,adj_sat,gt_block,if_then,pend_enc'"
      ]
     },
     "execution_count": 12,
     "metadata": {},
     "output_type": "execute_result"
    }
   ],
   "source": [
    "label_row = label_row.strip()\n",
    "label_row"
   ]
  },
  {
   "cell_type": "code",
   "execution_count": 13,
   "id": "attractive-floor",
   "metadata": {},
   "outputs": [
    {
     "data": {
      "text/plain": [
       "['i',\n",
       " 't_ms',\n",
       " 'loop_count',\n",
       " 'sum_junct',\n",
       " 'D',\n",
       " 'adj_sat',\n",
       " 'gt_block',\n",
       " 'if_then',\n",
       " 'pend_enc']"
      ]
     },
     "execution_count": 13,
     "metadata": {},
     "output_type": "execute_result"
    }
   ],
   "source": [
    "labels = label_row.split(',')\n",
    "labels"
   ]
  },
  {
   "cell_type": "code",
   "execution_count": 1,
   "id": "familiar-momentum",
   "metadata": {},
   "outputs": [],
   "source": [
    "def get_labels(fn):\n",
    "    \"\"\"Given a filename fn extract the columns labels \n",
    "    which are assumed to be in the first row and separated by commas\"\"\"\n",
    "    f = open(fn,'r')#<-- open the file in read-only mode\n",
    "    label_row = f.readline()#<-- read the first line\n",
    "    f.close()#<-- close the file\n",
    "    label_row = label_row.strip()#<-- get rid of newline\n",
    "    labels = label_row.split(',')#<-- split the string into a list\n",
    "    return labels\n",
    "    "
   ]
  },
  {
   "cell_type": "code",
   "execution_count": 2,
   "id": "rough-munich",
   "metadata": {},
   "outputs": [
    {
     "data": {
      "text/plain": [
       "['i',\n",
       " 't_ms',\n",
       " 'loop_count',\n",
       " 'sum_junct',\n",
       " 'D',\n",
       " 'adj_sat',\n",
       " 'gt_block',\n",
       " 'if_then',\n",
       " 'pend_enc']"
      ]
     },
     "execution_count": 2,
     "metadata": {},
     "output_type": "execute_result"
    }
   ],
   "source": [
    "get_labels(\"pendulum_data.txt\")"
   ]
  },
  {
   "cell_type": "code",
   "execution_count": null,
   "id": "friendly-interface",
   "metadata": {},
   "outputs": [],
   "source": []
  }
 ],
 "metadata": {
  "kernelspec": {
   "display_name": "Python 3",
   "language": "python",
   "name": "python3"
  },
  "language_info": {
   "codemirror_mode": {
    "name": "ipython",
    "version": 3
   },
   "file_extension": ".py",
   "mimetype": "text/x-python",
   "name": "python",
   "nbconvert_exporter": "python",
   "pygments_lexer": "ipython3",
   "version": "3.9.13"
  }
 },
 "nbformat": 4,
 "nbformat_minor": 5
}
