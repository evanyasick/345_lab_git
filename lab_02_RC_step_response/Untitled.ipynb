{
 "cells": [
  {
   "cell_type": "markdown",
   "id": "healthy-nevada",
   "metadata": {},
   "source": [
    "# Lab 2: Step Response of an RC Filter using Real-Time Serial"
   ]
  },
  {
   "cell_type": "markdown",
   "id": "figured-adobe",
   "metadata": {},
   "source": [
    "## What do you see?\n",
    "\n",
    "<img src=\"figs/open_loop.jpg\" width=600px>"
   ]
  },
  {
   "cell_type": "markdown",
   "id": "harmful-alfred",
   "metadata": {},
   "source": [
    "## Implied `for` Loop\n",
    "\n",
    "<img src=\"figs/OL_with_loop_counter.jpg\" width=600px>"
   ]
  },
  {
   "cell_type": "markdown",
   "id": "angry-ancient",
   "metadata": {},
   "source": [
    "## Step Response\n",
    "\n",
    "- what do we need to do to run a step response test for this system?\n",
    "\n",
    "<img src=\"figs/OL_with_loop_counter.jpg\" width=600px>"
   ]
  },
  {
   "cell_type": "markdown",
   "id": "going-compression",
   "metadata": {},
   "source": [
    "## What is Real-Time Control?\n",
    "\n",
    "- the term \"real-time\" means different things in different contexts\n",
    "- in dynamic systems and feedback control, we mean performing control actions at hard, consistent intervals on the order of 1-10ms\n",
    "    - if we are doing feedback control at 200 Hz, then we do things every 5 ms consistently\n",
    "- what do we mean by \"control actions\"?  what kind of things do we do?\n",
    "    - read sensors\n",
    "    - send commands to actuators"
   ]
  },
  {
   "cell_type": "markdown",
   "id": "spectacular-county",
   "metadata": {},
   "source": [
    "## How do we perform a step response test on an RC circuit?\n",
    "\n",
    "<img src=\"figs/RC_filter.jpg\" width=500px>"
   ]
  },
  {
   "cell_type": "markdown",
   "id": "swedish-entity",
   "metadata": {},
   "source": [
    "## The RT Serial Approach\n",
    "\n",
    "- do most calculations in Python (laptop or Raspberry Pi)\n",
    "- use Arduino to send signals and read sensors as well as enforce the real-time timing\n",
    "- Python and Arduino must send small amounts of data back and forth each time step"
   ]
  }
 ],
 "metadata": {
  "kernelspec": {
   "display_name": "Python 3",
   "language": "python",
   "name": "python3"
  },
  "language_info": {
   "codemirror_mode": {
    "name": "ipython",
    "version": 3
   },
   "file_extension": ".py",
   "mimetype": "text/x-python",
   "name": "python",
   "nbconvert_exporter": "python",
   "pygments_lexer": "ipython3",
   "version": "3.9.13"
  }
 },
 "nbformat": 4,
 "nbformat_minor": 5
}
