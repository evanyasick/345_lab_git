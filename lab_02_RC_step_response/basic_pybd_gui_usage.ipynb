{
 "cells": [
  {
   "cell_type": "markdown",
   "id": "happy-valentine",
   "metadata": {},
   "source": [
    "## Block Diagram Creation using `pybd_gui`"
   ]
  },
  {
   "cell_type": "markdown",
   "id": "together-celebration",
   "metadata": {},
   "source": [
    "### Create the input block (step, pulse, ...)"
   ]
  },
  {
   "cell_type": "markdown",
   "id": "flexible-glossary",
   "metadata": {},
   "source": [
    "- add block\n",
    "    - `Add New Block` dialog should open\n",
    "    - `Block Category` should be `input`\n",
    "    - choose `step` or `pulse` (depending on the lab activity)\n",
    "    - accept the defaults"
   ]
  },
  {
   "cell_type": "markdown",
   "id": "refined-title",
   "metadata": {},
   "source": [
    "### Placing a block\n",
    "\n",
    "- creating the block is a separate step from placing it on the block diagram\n",
    "- after you have created a block, select it in the `Blocks` list\n",
    "- choose `Blocks --> Place Block`\n",
    "- the first block that you place should be located using Absolute reference\n",
    "    - accept the defaults to place it at (0,0)\n",
    "- later blocks will be place relative to other blocks"
   ]
  },
  {
   "cell_type": "markdown",
   "id": "established-queensland",
   "metadata": {},
   "source": [
    "## Creating an actuator and a senor\n",
    "\n",
    "#### Actuator\n",
    "\n",
    "- a plant block should have an actuator and a sensor\n",
    "- click the `Actuator` tab and then click `Add Actuator`\n",
    "- the `Add Actuator Dialog` should pop up\n",
    "- choose `i2c_actuator` and accept the defaults\n"
   ]
  },
  {
   "cell_type": "markdown",
   "id": "black-diana",
   "metadata": {},
   "source": [
    "#### Sensor\n",
    "\n",
    "- follow nearly the same steps to add an i$^2$c sensor\n",
    "- click the `Sensor` tab and then click `Add Sensor`\n",
    "- the `Add Sensor Dialog` should pop up\n",
    "- choose `i2c_sensor` and accept the defaults\n"
   ]
  },
  {
   "cell_type": "code",
   "execution_count": null,
   "id": "regular-columbus",
   "metadata": {},
   "outputs": [],
   "source": []
  }
 ],
 "metadata": {
  "kernelspec": {
   "display_name": "Python 3",
   "language": "python",
   "name": "python3"
  },
  "language_info": {
   "codemirror_mode": {
    "name": "ipython",
    "version": 3
   },
   "file_extension": ".py",
   "mimetype": "text/x-python",
   "name": "python",
   "nbconvert_exporter": "python",
   "pygments_lexer": "ipython3",
   "version": "3.9.13"
  }
 },
 "nbformat": 4,
 "nbformat_minor": 5
}
