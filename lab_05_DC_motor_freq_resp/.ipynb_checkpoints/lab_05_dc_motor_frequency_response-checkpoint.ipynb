{
 "cells": [
  {
   "cell_type": "markdown",
   "id": "spectacular-flashing",
   "metadata": {},
   "source": [
    "# Lab 5: DC Motor Frequency Response\n",
    "\n",
    "## Introduction\n",
    "\n",
    "Your team should have found the open loop transfer function of your DC\n",
    "motor system in a previous lab.  In this lab, you will perform frequency response\n",
    "tests for your DC motor.  Because a DC motor is not open-loop stable, you will need to \n",
    "place your DC motor under feedback control before giving it sinusoidal inputs. \n",
    "\n"
   ]
  },
  {
   "cell_type": "markdown",
   "id": "6bb43594-26f5-4993-b2b0-0ce37438a91c",
   "metadata": {},
   "source": [
    "<a id='sw_update'></a>\n",
    "\n",
    "## Software Update\n",
    "\n",
    "Once again, I need you to upgrade my Python pacakges.  I was able to recreate not being able to replace a block and I think it is fixed.\n",
    "\n",
    "Please upgrade `wxbd_gui` and `py_block_diagram`:\n",
    "\n",
    "- Windows (anaconda prompt):\n",
    "    - `pip install --upgrade wxbd_gui`\n",
    "    - `pip install --upgrade py_block_diagram`\n",
    "- Mac/Linex (terminal):\n",
    "    - `pip3 install --upgrade wxbd_gui`\n",
    "    - `pip3 install --upgrade py_block_diagram`\n",
    "\n",
    "#### Version Numbers\n",
    "\n",
    "The current software versions are:\n",
    "\n",
    "- `wxbd_gui`: 1.0.9\n",
    "- `py_block_diagram`: 1.5.2"
   ]
  },
  {
   "cell_type": "markdown",
   "id": "reliable-bhutan",
   "metadata": {},
   "source": [
    "## Verification of Open-Loop Results\n",
    "\n",
    "There are two things that your team was supposed to finish in Lab 3\n",
    "that are essential to this week's lab.  Your team must\n",
    "\n",
    "1. be able to run open-loop pulse tests with correct signs using your\n",
    "   Arduino\n",
    "2. have the open-loop transfer function of the DC motor system\n",
    "\n",
    "### Important Sign Check\n",
    "\n",
    "You cannot successfully complete this lab unless your system is setup\n",
    "so that a positive input to your motor h-bridge results in\n",
    "positive change in your encoder output, as shown in the figure below.\n",
    "Verify that for an open-loop pulse test, positive\n",
    "commands lead to positive increases in the encoder output and negative\n",
    "commands lead to decreasing encoder output.\n",
    "\n",
    "- you should re-do an open-loop pulse test just to be sure everything is working correctly\n",
    "\n"
   ]
  },
  {
   "cell_type": "markdown",
   "id": "hydraulic-making",
   "metadata": {},
   "source": [
    "<img src=\"figs/ol_pulse_sign_check.jpeg\" width=500px>"
   ]
  },
  {
   "cell_type": "markdown",
   "id": "secret-tower",
   "metadata": {},
   "source": [
    "## Learning Objectives\n",
    "\n",
    "Students will\n",
    "\n",
    "- implement feedback control using the `wxbd_gui` approach\n",
    "- perform fixed sine and swept sine tests on a DC motor\n",
    "- generate a Bode plot for a DC motor\n",
    "    - overlaying fixed sine Bode points on the swept sine Bode plot\n",
    "- compare the swept sine experimental Bode plot with a Bode plot from the transfer function found in a previous lab"
   ]
  },
  {
   "cell_type": "markdown",
   "id": "varied-sampling",
   "metadata": {},
   "source": [
    "## Closed-Loop Block Diagram"
   ]
  },
  {
   "cell_type": "markdown",
   "id": "parliamentary-albert",
   "metadata": {},
   "source": [
    "In order to conduct frequency response tests for the DC motor, we need to place the motor under feedback control.  Just like in the previous lab where we used the DC motor, the actuator is an H-bridge and the sensor is an encoder.  \n",
    "\n",
    "### Blocks needed for this lab\n",
    "\n",
    "You will need the following blocks for this weeks lab:\n",
    "\n",
    "- fixed sine input block\n",
    "- summing junction\n",
    "- PD controller\n",
    "- saturation block\n",
    "- plant\n",
    "\n",
    "**Note:** The summing junction is *not* just an addition block.  The bottom input is negative and the assumption is that its second input will have a feedback wire. \n",
    "\n",
    "The saturation block is needed in case the PD controller asks for a PWM input outside the rage $\\pm255$.\n",
    "\n",
    "\n",
    "The motor will be placed under PD control with a saturation block as shown in this block diagram:\n",
    "\n",
    "<img src=\"figs/cl_bd_wx.png\" width=500px>\n",
    "\n",
    "\n",
    "\n",
    "The choices of $K_p$ and $K_d$ for $D(s)$ will impact your frequency response to some extent, but we have not yet covered how to design $D(s)$.  Try $K_p$ values between 5 and 10 and set $K_d=0.1$ for now.  It may be necessary to adjust $K_p$ for the swept sine tests."
   ]
  },
  {
   "cell_type": "markdown",
   "id": "occupational-atlanta",
   "metadata": {},
   "source": [
    "### Fixed Sine Frequencies\n",
    "\n",
    "Run an initial batch of fixed sine tests using frequencies of 0.5, 1, 2, 3, 5, and 7 Hz.  Verify that your data reaches steady-state.  At some point, you will need to estimate the magnitude ratio and phase for these fixed sine tests.\n",
    "\n",
    "## Swept Sine Testing"
   ]
  },
  {
   "cell_type": "markdown",
   "id": "external-contribution",
   "metadata": {},
   "source": [
    "Getting \"good\" swept sine data takes some trial and error along with tweaking the test parameters.  Parameters to vary include the swept sine amplitude and slope, $K_p$ and $K_d$, and `stop_t`.  You know the data is \"good\" when it leads to a \"good\" Bode plot.\n",
    "\n",
    "All Bode plots have noise at high frequencies."
   ]
  },
  {
   "cell_type": "markdown",
   "id": "related-sharp",
   "metadata": {},
   "source": [
    "## Final Bode Plot\n",
    "\n",
    "Each fixed sine test gives a magnitude ratio and phase at one frequency.\n",
    "Just like with the RC filter in last week's lab, your goal is to overlay Bode \n",
    "points from the fixed tests onto the swept sine Bode plot.  \n",
    "\n",
    "You must also generate a Bode plot that corresponds to the transfer function you \n",
    "found from the open-loop pulse test of your DC motor from last week's lab."
   ]
  },
  {
   "cell_type": "markdown",
   "id": "prescribed-course",
   "metadata": {},
   "source": [
    "## Comprehension Questions\n",
    "\n",
    "\n",
    "**CQ1: How did you arrive at the final form for your transfer function?  What aspects of your Bode plot lead you to include certain terms in your TF?\n",
    "\n",
    "**CQ2:** What does a Bode plot represent?\n",
    "\n",
    "**CQ3:** When working with frequency response, what are magnitude ratio and phase shift?"
   ]
  },
  {
   "cell_type": "code",
   "execution_count": null,
   "id": "african-azerbaijan",
   "metadata": {},
   "outputs": [],
   "source": []
  }
 ],
 "metadata": {
  "kernelspec": {
   "display_name": "Python 3 (ipykernel)",
   "language": "python",
   "name": "python3"
  },
  "language_info": {
   "codemirror_mode": {
    "name": "ipython",
    "version": 3
   },
   "file_extension": ".py",
   "mimetype": "text/x-python",
   "name": "python",
   "nbconvert_exporter": "python",
   "pygments_lexer": "ipython3",
   "version": "3.12.4"
  }
 },
 "nbformat": 4,
 "nbformat_minor": 5
}
