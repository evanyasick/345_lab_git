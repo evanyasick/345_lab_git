{
 "cells": [
  {
   "cell_type": "markdown",
   "id": "spectacular-flashing",
   "metadata": {},
   "source": [
    "# Lab 5: DC Motor Frequency Response\n",
    "\n",
    "## Introduction\n",
    "\n",
    "Your team should have found the open loop transfer function of your DC\n",
    "motor system in the previous lab.  In this lab, you will perform frequency response\n",
    "tests for your DC motor.  Because a DC motor is not open-loop stable, you will need to \n",
    "place your DC motor under feedback control before giving it sinusoidal inputs. \n",
    "\n"
   ]
  },
  {
   "cell_type": "markdown",
   "id": "reliable-bhutan",
   "metadata": {},
   "source": [
    "## Verification of Open-Loop Results\n",
    "\n",
    "There are two things that your team was supposed to finish in Lab 3\n",
    "that are essential to this week's lab.  Your team must\n",
    "\n",
    "1. be able to run open-loop pulse tests with correct signs using your\n",
    "   Arduino\n",
    "2. have the open-loop transfer function of the DC motor system\n",
    "\n",
    "### Important Sign Check\n",
    "\n",
    "You cannot successfully complete this lab unless your system is setup\n",
    "so that a positive input to your motor h-bridge results in\n",
    "positive change in your encoder output, as shown in the figure below.\n",
    "Verify that for an open-loop pulse test, positive\n",
    "commands lead to positive increases in the encoder output and negative\n",
    "commands lead to decreasing encoder output.\n",
    "\n",
    "- you may want to do an open-loop pulse test using the Arduino only approach just to be sure everything is working correctly\n",
    "\n"
   ]
  },
  {
   "cell_type": "markdown",
   "id": "hydraulic-making",
   "metadata": {},
   "source": [
    "<img src=\"https://drive.google.com/uc?id=1h3rQkgxPGpLqMksCW5Z67O0lBwZ8KcAy\" width=500px>"
   ]
  },
  {
   "cell_type": "markdown",
   "id": "secret-tower",
   "metadata": {},
   "source": [
    "## Learning Objectives\n",
    "\n",
    "Students will\n",
    "\n",
    "- implement feedback control using the `pybd_gui` approach\n",
    "- perform fixed sine and swept sine tests on a DC motor\n",
    "- generate a Bode plot for a DC motor\n",
    "    - overlaying fixed sine Bode points on the swept sine Bode plot\n",
    "- compare the swept sine experimental Bode plot with a Bode plot from the transfer function found in last week's lab"
   ]
  },
  {
   "cell_type": "markdown",
   "id": "discrete-hearing",
   "metadata": {},
   "source": [
    "## Basic Git usage\n",
    "\n",
    "We will use git as a way for me to get the template files and lab procedures.  Each Raspberry Pi should already have a clone of the `345_lab_git` repo.  To get to this repo, open a terminal and type the command `cd 345_lab_git`.  Note that you can use tab completion by typing `cd 345` and then hitting tab.  Once you are in the `345_lab_git` folder, type the command \n",
    "\n",
    "`git pull origin main`\n",
    "\n",
    "Also note that this command is in the command history.  You can type part of a command and then hit the up arrow to search the command history.  So, typing `git pull` and then hitting the up arrow should get you the command.\n",
    "\n",
    "The `345_lab_git` folder is for me to deliver files to you.  You should leave the Arduino templates in this folder and you should view the lab procedures from this folder.  \n",
    "\n",
    "- But you should **not** create any new files in the `345_lab_git` folder.  "
   ]
  },
  {
   "cell_type": "markdown",
   "id": "announced-tracker",
   "metadata": {},
   "source": [
    "## Launching Jupyter Notebook\n",
    "\n",
    "The command to start the Jupyter notebook server is `jupyter-notebook`, but typing `jup` and hitting the up arrow should probably work.\n",
    "\n",
    "## Launch the `pybd_gui`\n",
    "\n",
    "The command to launch the `pybd_gui` is `launch_pybd_gui.py`, but typing `lau` and hitting either tab or the up arrow should probably work."
   ]
  },
  {
   "cell_type": "markdown",
   "id": "varied-sampling",
   "metadata": {},
   "source": [
    "## Closed-Loop Block Diagram"
   ]
  },
  {
   "cell_type": "markdown",
   "id": "parliamentary-albert",
   "metadata": {},
   "source": [
    "In order to conduct frequency response tests for the DC motor, we need to place the motor under feedback control.  We will also be generating Arduino code rather than Raspberry Pi code for this lab.  So, we will not be using i$^2$c.  For the motor, the actuator is an H-bridge and the sensor is an encoder.  Use a standard `plant`, not an `i2c_plant`  The motor will be placed under PD control with a saturation block as shown in this block diagram:\n",
    "\n",
    "<img src=\"https://drive.google.com/uc?id=1h8ltUeNfEAHa9aIBl5wIg9HStbHISxsp\" width=500px>\n",
    "\n",
    "\n",
    "The choices of $K_p$ and $K_d$ for $D(s)$ will impact your frequency response to some extent, but we have not yet covered how to design $D(s)$.  Try $K_p$ values between 5 and 10 and set $K_d=0.1$ for now.  It may be necessary to adjust $K_p$ for the swept sine tests."
   ]
  },
  {
   "cell_type": "markdown",
   "id": "civilian-florida",
   "metadata": {},
   "source": [
    "## Arduino Code Generation\n",
    "\n",
    "Because we are not using i$^2$c between the Raspberry Pi and Arduino, you will be generating Arduino code for this lab.  You will need the Arduino template code here:\n",
    "\n",
    "[https://drive.google.com/uc?export=download&id=1R4iV5ZnNuTC7aj45fUhKIiP_RmT_EBTC](https://drive.google.com/uc?export=download&id=1R4iV5ZnNuTC7aj45fUhKIiP_RmT_EBTC)\n",
    "\n",
    "Because Arduino code needs to be in its own folder, you will specify the output folder path and the gui will then generate a `*.ino` file inside that folder: `.../mycode/mycode.ino`.\n",
    "\n",
    "You will then compile the code and upload it to the Arduino and run it from the serial monitor.  You will need to copy and paste data from the serial monitor into a text file.  `geany` is a pretty decent text editor on the RPi if you are not using your laptop."
   ]
  },
  {
   "cell_type": "markdown",
   "id": "occupational-atlanta",
   "metadata": {},
   "source": [
    "### Fixed Sine Frequencies\n",
    "\n",
    "Run an initial batch of fixed sine tests using frequencies of 0.5, 1, 2, 3, 5, and 7 Hz.  Verify that your data reaches steady-state.  At some point, you will need to estimate the magnitude ratio and phase for these fixed sine tests.\n",
    "\n",
    "## Swept Sine Testing"
   ]
  },
  {
   "cell_type": "markdown",
   "id": "external-contribution",
   "metadata": {},
   "source": [
    "Getting \"good\" swept sine data takes some trial and error along with tweaking the test parameters.  Parameters to vary include the swept sine amplitude and slope, $K_p$ and $K_d$, and `stop_t`.  You know the data is \"good\" when it leads to a \"good\" Bode plot.\n",
    "\n",
    "All Bode plots have noise at high frequencies."
   ]
  },
  {
   "cell_type": "markdown",
   "id": "related-sharp",
   "metadata": {},
   "source": [
    "## Final Bode Plot\n",
    "\n",
    "Each fixed sine test gives a magnitude ratio and phase at one frequency.\n",
    "Just like with the RC filter in last week's lab, your goal is to overlay Bode \n",
    "points from the fixed tests onto the swept sine Bode plot.  \n",
    "\n",
    "You must also generate a Bode plot that corresponds to the transfer function you \n",
    "found from the open-loop pulse test of your DC motor from last week's lab."
   ]
  },
  {
   "cell_type": "markdown",
   "id": "prescribed-course",
   "metadata": {},
   "source": [
    "## Comprehension Questions\n",
    "\n",
    "\n",
    "**CQ1: (skip me F23)**  How did you arrive at the final form for your transfer function?  What aspects of your Bode plot lead you to include certain terms in your TF?\n",
    "\n",
    "**CQ2:** What does a Bode plot represent?\n",
    "\n",
    "**CQ3:** When working with frequency response, what are magnitude ratio and phase shift?"
   ]
  },
  {
   "cell_type": "code",
   "execution_count": null,
   "id": "african-azerbaijan",
   "metadata": {},
   "outputs": [],
   "source": []
  }
 ],
 "metadata": {
  "kernelspec": {
   "display_name": "Python 3 (ipykernel)",
   "language": "python",
   "name": "python3"
  },
  "language_info": {
   "codemirror_mode": {
    "name": "ipython",
    "version": 3
   },
   "file_extension": ".py",
   "mimetype": "text/x-python",
   "name": "python",
   "nbconvert_exporter": "python",
   "pygments_lexer": "ipython3",
   "version": "3.9.13"
  }
 },
 "nbformat": 4,
 "nbformat_minor": 5
}
