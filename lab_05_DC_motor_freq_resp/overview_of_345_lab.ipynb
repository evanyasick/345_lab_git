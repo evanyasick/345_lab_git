{
 "cells": [
  {
   "cell_type": "markdown",
   "id": "official-think",
   "metadata": {},
   "source": [
    "# Overview of EGR 345 Lab \n",
    "\n",
    "## Software and Hardware and Stuff"
   ]
  },
  {
   "cell_type": "markdown",
   "id": "gentle-procedure",
   "metadata": {},
   "source": [
    "When conducting experiments on dynamic systems and/or using feedback control, it is important that the experiments execute with digital update frequencies of 200-500 Hz or faster.  This is not easy to do using a standard operating system, i.e. one that is not design for real-time execution.  In EGR 345 lab, we will use Arduino and/or Raspberry Pi to perform real-time experiments.\n",
    "\n",
    "For the last half of the semester, students’ will need to use a Raspberry Pi to provide a small,  wireless computer attached to a mobile robot.  For the first six or so weeks of lab, students may choose whether to use their own laptops or a Raspberry Pi provided  by the instructor as the device that connects to the Arduino.  Arduino code will be auto-generated using Dr. Krauss’ pybd_gui Python application.\n",
    "\n",
    "If students choose to use a Raspberry Pi for the first 6 weeks of lab, it will be slightly harder for them to conduct any experiments outside of the lab space in Keller.  If students choose to use their own laptops, they will need to install Dr. Krauss’ Arduino libraries as well as his Python modules.\n"
   ]
  },
  {
   "cell_type": "markdown",
   "id": "corresponding-salem",
   "metadata": {},
   "source": [
    "## Git vs. Windows\n",
    "\n",
    "Git is a software version control utility that makes it easier to share code you have written with others.  Git does not play super well with Windows.  Git is one option for staying up to date on Dr. Krauss’ Arduino libraries as well as easily and automatically downloading course lab files.  This might help: [https://gitforwindows.org](https://gitforwindows.org)."
   ]
  },
  {
   "cell_type": "markdown",
   "id": "organized-persian",
   "metadata": {},
   "source": [
    "## Installing Dr. Krauss' Python Libraries"
   ]
  },
  {
   "cell_type": "markdown",
   "id": "veterinary-issue",
   "metadata": {},
   "source": [
    "The main library we will be using in 345 lab is `pybd_gui`.  GUI is an acronymn for graphical user interface.  `pybd` is short from Python Block Diagram.  So, the name refers to a GUI for creating and editing block diagrams using Python.  The `pybd_gui` module depends on two other modules that Dr. Krauss has created: `py_block_diagram` and `krauss_misc`.  `py_block_diagram` is the \"backend\" code the moding block diagram systems in Python.  `krauss_misc` contains a few random sub-packages that make it easier to do some things in Python.\n",
    "\n",
    "Installing `pybd_gui` should trigger `pip` to install the other packages:\n",
    "\n",
    "`pip install pybd_gui`\n",
    "\n",
    "The packages will be updated multiple time troughout the semester.  To update them, use these commands:\n",
    "\n",
    "`pip install --upgrade krauss_misc`\n",
    "\n",
    "`pip install --upgrade py_block_diagram`\n",
    "\n",
    "`pip install --upgrade pybd_gui`"
   ]
  },
  {
   "cell_type": "markdown",
   "id": "drawn-johnson",
   "metadata": {},
   "source": [
    "#### Launching `pybd_gui`\n",
    "\n",
    "Once you have the Python modules installed, you launch the gui from a Python prompt using the following lines of code:\n",
    "\n",
    "```\n",
    "import pybd_gui\n",
    "app = pybd_gui.pybd_gui()\n",
    "app.mainloop()\n",
    "```\n",
    "\n",
    "The last line might not be necessary depending on the Python environment you are working in.\n",
    "\n",
    "There is a script in the google drive lab folder that contains the three lines above.  Mac or Raspberry Pi users should be able to execute the script to launch the GUI."
   ]
  },
  {
   "cell_type": "markdown",
   "id": "found-booth",
   "metadata": {},
   "source": [
    "## Installing Dr. Krauss' Arduino Libraries"
   ]
  },
  {
   "cell_type": "markdown",
   "id": "configured-logan",
   "metadata": {},
   "source": [
    "**Note:** This is only necessary if you are using your own laptop rather than a Raspberry Pi.  The Raspberry Pi's provided for the lab already have the Arduino libraries installed."
   ]
  },
  {
   "cell_type": "markdown",
   "id": "built-voice",
   "metadata": {},
   "source": [
    "There are two options for installing Dr. Krauss' Arduino libraries.  One is initially easier, but will be more painful if the libraries have to be updated.  The other is initially harder but easier to update - but it requires `git`.\n",
    "\n",
    "### Dr. Krauss' github repos\n",
    "\n",
    "Dr. Krauss' Arduino libraries are on github.  They are located at\n",
    "\n",
    "- [https://github.com/ryanGT/kraussserial](https://github.com/ryanGT/kraussserial)\n",
    "- [https://github.com/ryanGT/rtblockdiagram](https://github.com/ryanGT/rtblockdiagram)\n",
    "\n",
    "### Option 1: Download zip files and install them from the Arduino IDE\n",
    "\n",
    "The easiest initial option for installing Dr. Krauss' Arduino libraries is to download a zip file from each of the two github links above.  On each page, there is a green code bottom and at the bottom of the pop-up menu is an option to \"Download Zip\".  Save the zip file somewhere on your laptop and then install it from the Arduino IDE by following the Arduino menu: \n",
    "`Sketch > Include Library > Add .ZIP Library`.\n",
    "\n",
    "The disadvantage of this method is that you cannot install a library if it is already installed.  So, if any updates are made to Dr. Krauss' libraries, you have to first find and delete the library and then re-download the zip file and re-install it.\n",
    "\n",
    "### Option 2: git clone in the Arduino/libraries folder\n",
    "\n",
    "The second option is to clone Dr. Krauss' repos that contain the Arduino libraries.  This requires git.  To do this, you have to know where your Arduino/libraries folder is.  On a Mac, this is `~/Documents/Arduino/libraries` where `~` refers to your home directory.  Your home directory is most like `/Users/username/`.  \n",
    "\n",
    "#### Mac Steps\n",
    "\n",
    "- open a terminal and change to the Arduino/libraries directory:\n",
    "    - `cd Documents/Arduino/libraries`\n",
    "    - note that you can type a few letters and then hit `tab` to take advantage of tab \n",
    "      completion \n",
    "- once you are in the `libraries` folder, type the following commands (feel free to copy and paste):\n"
   ]
  },
  {
   "cell_type": "markdown",
   "id": "textile-development",
   "metadata": {},
   "source": [
    "```\n",
    "git clone https://github.com/ryanGT/rtblockdiagram.git\n",
    "\n",
    "git clone https://github.com/ryanGT/kraussserial.git\n",
    "```"
   ]
  },
  {
   "cell_type": "markdown",
   "id": "saving-spider",
   "metadata": {},
   "source": [
    "#### Updating using git\n",
    "\n",
    "When you need to update one of these Arduino libraries, open a terminal and change to inside the library's director (either `Arduino/libraries/rtblockdiagram` or `Arduino/libraries/kraussserial`) and then execute the command\n",
    "\n",
    "`git pull origin main`"
   ]
  }
 ],
 "metadata": {
  "kernelspec": {
   "display_name": "Python 3",
   "language": "python",
   "name": "python3"
  },
  "language_info": {
   "codemirror_mode": {
    "name": "ipython",
    "version": 3
   },
   "file_extension": ".py",
   "mimetype": "text/x-python",
   "name": "python",
   "nbconvert_exporter": "python",
   "pygments_lexer": "ipython3",
   "version": "3.9.13"
  }
 },
 "nbformat": 4,
 "nbformat_minor": 5
}
