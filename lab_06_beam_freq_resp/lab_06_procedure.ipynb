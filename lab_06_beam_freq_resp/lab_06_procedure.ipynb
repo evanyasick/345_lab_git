{
 "cells": [
  {
   "cell_type": "markdown",
   "id": "fabulous-mauritius",
   "metadata": {},
   "source": [
    "# Lab 6 Procedure"
   ]
  },
  {
   "cell_type": "markdown",
   "id": "rubber-plain",
   "metadata": {},
   "source": [
    "## Introduction"
   ]
  },
  {
   "cell_type": "markdown",
   "id": "funny-bubble",
   "metadata": {},
   "source": [
    "This is a two week lab.  At the end of the two weeks, your team should have a Bode plot for the beam/motor system along with a transfer function that fits the Bode data well.\n",
    "\n",
    "This lab has four main parts:\n",
    "\n",
    "- Attaching the beam and accelerometer to the motor\n",
    "- Running fixed sign tests\n",
    "- Running swept sign tests and generating an experimental Bode plot\n",
    "- Curve fitting a transfer function to the experimental Bode plot\n",
    "\n",
    "The fixed sign and swept sign testing is in some ways similar to the previous lab.  However, you are now working with a different system and there are some experimental details that require additional attention. The main issue is that there is very little chance you could damage the RC filter last week by running a test with bad parameters. And this week's lab, there is some risk of you breaking the beam and it will also require a little bit more effort to get good data.\n"
   ]
  },
  {
   "cell_type": "markdown",
   "id": "leading-adapter",
   "metadata": {},
   "source": [
    "## Basic Git usage\n",
    "\n",
    "We will use git as a way for me to get the template files and lab procedures.  Each Raspberry Pi should already have a clone of the `345_lab_git` repo.  To get to this repo, open a terminal and type the command `cd 345_lab_git`.  Note that you can use tab completion by typing `cd 345` and then hitting tab.  Once you are in the `345_lab_git` folder, type the command \n",
    "\n",
    "`git pull origin main`\n",
    "\n",
    "Also note that this command is in the command history.  You can type part of a command and then hit the up arrow to search the command history.  So, typing `git pull` and then hitting the up arrow should get you the command.\n",
    "\n",
    "The `345_lab_git` folder is for me to deliver files to you.  You should leave the Arduino templates in this folder and you should view the lab procedures from this folder.  \n",
    "\n",
    "- But you should **not** create any new files in the `345_lab_git` folder.  \n",
    "\n",
    "Your lab team should create their own folder to work in and you probably want to make that folder into your team's git repo.  You would then want to invite your teammates to collaborate on that repo.  See [this link](https://docs.github.com/en/account-and-profile/setting-up-and-managing-your-personal-account-on-github/managing-access-to-your-personal-repositories/inviting-collaborators-to-a-personal-repository) for info on inviting collaborators to a github repo.  Each team member would need their own `github.com` account.  Student accounts are free. "
   ]
  },
  {
   "cell_type": "markdown",
   "id": "proper-phone",
   "metadata": {},
   "source": [
    "## Software update on RPi\n",
    "\n",
    "The command to update Dr. Krauss' python module via pip is `upgrade_pybd_pip_stuff.sh`, but it should be enough to type `upg` and then hit tab."
   ]
  },
  {
   "cell_type": "markdown",
   "id": "humanitarian-profile",
   "metadata": {},
   "source": [
    "If you need to update Dr. Krauss' Arduino modules, the command is `update_krauss_arduino.sh`, but typing `upd` and hitting tab should probably work."
   ]
  },
  {
   "cell_type": "markdown",
   "id": "exact-undergraduate",
   "metadata": {},
   "source": [
    "## Launching Jupyter Notebook\n",
    "\n",
    "The command to start the Jupyter notebook server is `jupyter-notebook`, but typing `jup` and hitting the up arrow should probably work."
   ]
  },
  {
   "cell_type": "markdown",
   "id": "useful-camcorder",
   "metadata": {},
   "source": [
    "## Launch the `pybd_gui`\n",
    "\n",
    "The command to launch the `pybd_gui` is `launch_pybd_gui.py`, but typing `lau` and hitting either tab or the up arrow should probably work."
   ]
  },
  {
   "cell_type": "markdown",
   "id": "prerequisite-daily",
   "metadata": {},
   "source": [
    "## Attaching the Beam"
   ]
  },
  {
   "cell_type": "markdown",
   "id": "large-madison",
   "metadata": {},
   "source": [
    "**Note:** Please be careful not to strip the threads in the aluminum hubs.  Some are SAE #4-40 and some are M3.  These look very similar.  Please try finger tightening one screw and then the other to verify."
   ]
  },
  {
   "cell_type": "markdown",
   "id": "humanitarian-harvest",
   "metadata": {},
   "source": [
    "#### Hub pic 1\n",
    "\n",
    "<img src=\"https://drive.google.com/uc?id=1yPbuyVnNzpvfMmS3rp8IFFmebiHITXSj\" width=400px>\n",
    "\n",
    "#### Hub pic 2"
   ]
  },
  {
   "cell_type": "markdown",
   "id": "minute-bridge",
   "metadata": {},
   "source": [
    "<img src=\"https://drive.google.com/uc?id=1yUyS1dlydx3lVamo72cIffFG2AlKrdKT\" width=400px>"
   ]
  },
  {
   "cell_type": "markdown",
   "id": "color-crystal",
   "metadata": {},
   "source": [
    "### Bad Screws\n",
    "\n",
    "If your base is attached to the hub with screws that look like this:\n",
    "\n",
    "<img src=\"https://drive.google.com/uc?id=1yZqECqvcCJoF7aIkV8cnUgLeBnQQa1bv\" width=350px>"
   ]
  },
  {
   "cell_type": "markdown",
   "id": "intelligent-barcelona",
   "metadata": {},
   "source": [
    "it means that last year's students solved a problem, but put #4-40 SAE screws in a hub with M3 threads.  Please swap the screws out for M3's."
   ]
  },
  {
   "cell_type": "markdown",
   "id": "promising-collins",
   "metadata": {},
   "source": [
    "### Beam attached to motor\n",
    "\n",
    "The picture below shows a beam attached to a motor.  Do not attach the accelerometer wires yet (if there are wires connected to your accelerometer, leave them dangling but do not attach them to the Arduino yet).  \n",
    "\n",
    "Note that there are four washers with the 1/4-20 bolt at the end for weight.  This is necessary to get the beam vibration modes at frequencies we can work with. \n",
    "\n",
    "<img src=\"https://drive.google.com/uc?id=1h2NaMCBjrEao4H2yqBrNBUethdpLu-UX\" width=500px>"
   ]
  },
  {
   "cell_type": "markdown",
   "id": "empirical-recipe",
   "metadata": {},
   "source": [
    "## Fixed sine tests *without* accelerometer wires"
   ]
  },
  {
   "cell_type": "markdown",
   "id": "available-valley",
   "metadata": {},
   "source": [
    "In order to conduct frequency response tests of the beam/motor system, we need to place the motor under feedback control.  For the motor, the actuator is an H-bridge and the sensor is an encoder.  The motor will be placed under PD control with a saturation block as shown in this block diagram:\n",
    "\n",
    "<img src=\"https://drive.google.com/uc?id=1ySI4MtiqazgtnXniX7hcjm9qoW_O09P4\" width=500px>\n",
    "\n",
    "Note that $G$ is a plant that represents the motor.  $G_2$ represents the motion of the motor causing the vibration of the beam.  $G_2$ is modeled using a `plant_no_actuator` block.  The sensor for $G_2$ is an \n",
    "accelerometer.\n",
    "\n",
    "The choices of $K_p$ and $K_d$ for $D(s)$ will impact your frequency response, but we have not yet covered how to design $D(s)$.  Try $K_p$ values between 5 and 10 and set $K_d=0.1$ for now.  It may be necessary to adjust $K_p$ during the swept sine tests."
   ]
  },
  {
   "cell_type": "markdown",
   "id": "studied-divide",
   "metadata": {},
   "source": [
    "### Running tests without breaking things"
   ]
  },
  {
   "cell_type": "markdown",
   "id": "generic-judges",
   "metadata": {},
   "source": [
    "Try setting your fixed amplitude to 20 to start with.  Run a test and verify that the beam vibrates some without going crazy or breaking the beam.  Try frequencies of 1 Hz, 2 Hz, and 5 Hz and verify that your amplitude is reasonable."
   ]
  },
  {
   "cell_type": "markdown",
   "id": "innovative-salon",
   "metadata": {},
   "source": [
    "### Accelerometer Wiring"
   ]
  },
  {
   "cell_type": "markdown",
   "id": "american-mills",
   "metadata": {},
   "source": [
    "Once you have a good idea of what parameters to use for a test and have verified that the system is stable and nothing breaks, you are ready to attach the accelerometer wires.\n",
    "\n",
    "There are four wiring connections that need to be made between the MPU 6050 accelerometer and the Arduino:\n",
    "\n",
    "\n",
    "| Accel Pin   | Arduino Pin |\n",
    "| ----------- | ----------- |\n",
    "| Vcc         | 5V          |\n",
    "| GND         | GND         |\n",
    "| SCL         | A5          |\n",
    "| SDA         | A4          |\n",
    "\n",
    "<img src=\"https://drive.google.com/uc?id=1nYdyUuS2YT_jOyZeMNk5E8CwySAAltdL\" width=500px>\n",
    "\n",
    "<img src=\"https://drive.google.com/uc?id=1nU_RyMGaNvlf9kiGv_BaG9mJTloo7kQM\" width=500px>"
   ]
  },
  {
   "cell_type": "markdown",
   "id": "small-desperate",
   "metadata": {},
   "source": [
    "### Fixed Sine Frequencies\n",
    "\n",
    "Run an initial batch of fixed sine tests using frequencies of 0.5, 1, 2, 3, 5, and 7 Hz.  Verify that your data reaches steady-state.  At some point, you will need to estimate the magnitude ratio and phase for these fixed sine tests."
   ]
  },
  {
   "cell_type": "markdown",
   "id": "visible-amino",
   "metadata": {},
   "source": [
    "## Swept Sine Testing"
   ]
  },
  {
   "cell_type": "markdown",
   "id": "fabulous-league",
   "metadata": {},
   "source": [
    "Getting \"good\" swept sine data takes some trial and error along with tweaking the test parameters.  Parameters to vary include the swept sine amplitude and slope, $K_p$ and $K_d$, and `stop_t`.  You know the data is \"good\" when it leads to a \"good\" Bode plot.\n",
    "\n",
    "All Bode plots have noise at high frequencies.  An accelerometer is subject to noise at low frequencies as well.  So, we expect the Bode plot to have noise on the left and right sides.  \n",
    "\n",
    "The beam has two modes of vibration in the frequency range we are working with.  This means we should see two peaks in Bode plot.  Here is an example of a pretty good Bode plot "
   ]
  },
  {
   "cell_type": "markdown",
   "id": "peaceful-identity",
   "metadata": {},
   "source": [
    "<img src=\"https://drive.google.com/uc?id=1y_CvlLqxd1B0VR_nqnF68puKdZ-F-cmm\" width=500px>"
   ]
  },
  {
   "cell_type": "markdown",
   "id": "hawaiian-journey",
   "metadata": {},
   "source": [
    "## Comprehension Questions"
   ]
  },
  {
   "cell_type": "markdown",
   "id": "missing-mexico",
   "metadata": {},
   "source": [
    "**Q1:** What did you observe during fixed sine tests near the two modes of vibration?  What happens as the fixed sine frequency gets close to the vibration frequency?  How are the responses at the two frequencies similar?  How are the responses at the two frequencies different?"
   ]
  },
  {
   "cell_type": "markdown",
   "id": "provincial-probability",
   "metadata": {},
   "source": [
    "**Q2:**  How did you arrive at the final form for your transfer function?  What aspects of your Bode plot lead you to include certain terms in your TF?"
   ]
  },
  {
   "cell_type": "markdown",
   "id": "alike-mathematics",
   "metadata": {},
   "source": [
    "**Q3:** What does a Bode plot represent?"
   ]
  },
  {
   "cell_type": "markdown",
   "id": "educational-pizza",
   "metadata": {},
   "source": [
    "**Q4:** When working with frequency response, what are magnitude ratio and phase shift?"
   ]
  }
 ],
 "metadata": {
  "kernelspec": {
   "display_name": "Python 3",
   "language": "python",
   "name": "python3"
  },
  "language_info": {
   "codemirror_mode": {
    "name": "ipython",
    "version": 3
   },
   "file_extension": ".py",
   "mimetype": "text/x-python",
   "name": "python",
   "nbconvert_exporter": "python",
   "pygments_lexer": "ipython3",
   "version": "3.9.13"
  }
 },
 "nbformat": 4,
 "nbformat_minor": 5
}
