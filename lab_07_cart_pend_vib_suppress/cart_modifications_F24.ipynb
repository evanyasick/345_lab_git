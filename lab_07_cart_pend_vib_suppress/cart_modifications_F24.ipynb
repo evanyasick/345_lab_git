{
 "cells": [
  {
   "cell_type": "markdown",
   "id": "908cbec9-6ea9-4ba3-9783-73839dc38db7",
   "metadata": {},
   "source": [
    "# Cart Modifications F24"
   ]
  },
  {
   "cell_type": "code",
   "execution_count": null,
   "id": "0046f940-edd4-4a28-8ff4-101d1f35cac3",
   "metadata": {},
   "outputs": [],
   "source": []
  }
 ],
 "metadata": {
  "kernelspec": {
   "display_name": "Python 3 (ipykernel)",
   "language": "python",
   "name": "python3"
  },
  "language_info": {
   "codemirror_mode": {
    "name": "ipython",
    "version": 3
   },
   "file_extension": ".py",
   "mimetype": "text/x-python",
   "name": "python",
   "nbconvert_exporter": "python",
   "pygments_lexer": "ipython3",
   "version": "3.12.5"
  }
 },
 "nbformat": 4,
 "nbformat_minor": 5
}
