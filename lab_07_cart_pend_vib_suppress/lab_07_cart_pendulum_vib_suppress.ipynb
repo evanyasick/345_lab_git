{
 "cells": [
  {
   "cell_type": "markdown",
   "id": "75220161-9bdd-4076-a71a-57f076f806e2",
   "metadata": {},
   "source": [
    "# Lab 7: Vibration Suppression in a Cart/Pendulum System"
   ]
  },
  {
   "cell_type": "markdown",
   "id": "f6e7715d-5171-413c-b291-4ceffce47162",
   "metadata": {},
   "source": [
    "## Overview\n",
    "\n",
    "For this lab, you will develop a vibration suppresion controller two ways:\n",
    "\n",
    "- PD tuning\n",
    "- control design based on root locus or symbolic CLTF analysis\n",
    "\n",
    "In order to perform the design, you will need a TF for the system.  Since the system is open-loop stable, you can do Bode analysis based on open-loop swept-sine input.  You could also perform system ID based on an open-loop pulse test.\n",
    "\n",
    "**Note:** You **must** perform an open-loop pulse test to verify the sign of your encoder/h-bridge relationship before putting the system under feedback control.\n",
    "\n",
    "### Grading\n",
    "\n",
    "You will be graded based on the following things:\n",
    "\n",
    "- your system ID process and the TF you come up with\n",
    "- your control design process\n",
    "- the performance of your system in a final verification test"
   ]
  },
  {
   "cell_type": "markdown",
   "id": "7d5e47df-b4ba-4d0d-bcc8-be0e6e3b5e02",
   "metadata": {},
   "source": [
    "##  Final Verification Test"
   ]
  },
  {
   "cell_type": "markdown",
   "id": "32058f80-c843-41d0-99b0-5bae0de24539",
   "metadata": {},
   "source": [
    "For the vibration suppression event, your instructor will flick the pendulum and start it\n",
    "swinging. Your team will then start the test by giving a command to the Raspberry Pi at\n",
    "the terminal. Your code must collect at least one second of data before switching on the\n",
    "vibration suppression control. Additionally, your vibration suppression must switch on before\n",
    "the encoder peaks fall below 75 counts.\n",
    "\n",
    "*Note: the cart cannot move until the vibration suppression control turns on.* Your block\n",
    "diagram must print a variable that indicates when the vibration suppression control kicks on,\n",
    "in addition to the encoder data. Your score for this event will depend on the settling time that\n",
    "will be measured from when the vibration suppression control turns on. Settling time will be\n",
    "determined by finding the largest encoder value after the vibrations suppression control turns\n",
    "on. Your pendulum has settled when it stays within ±4% of that largest encoder value.\n",
    "Note: For this event, your cart must come to rest within ±4 in of where it started the event.\n",
    "\n",
    "### Example Vibration Suppression Settling Time Graph\n",
    "\n",
    "\\myfig{4.5in}{figs/event_1_example_fig.png}\n",
    "\n",
    "Recommended steps:\n",
    "\n",
    "- Perform a swept sign test to determine the transfer function between voltage to the\n",
    "motors and the pendulum encoder output\n",
    "- Use root locus to design the vibration suppression controller\n",
    "\n"
   ]
  },
  {
   "cell_type": "code",
   "execution_count": null,
   "id": "a3dc9650-b6b5-4aed-8389-a67055952f11",
   "metadata": {},
   "outputs": [],
   "source": []
  }
 ],
 "metadata": {
  "kernelspec": {
   "display_name": "Python 3 (ipykernel)",
   "language": "python",
   "name": "python3"
  },
  "language_info": {
   "codemirror_mode": {
    "name": "ipython",
    "version": 3
   },
   "file_extension": ".py",
   "mimetype": "text/x-python",
   "name": "python",
   "nbconvert_exporter": "python",
   "pygments_lexer": "ipython3",
   "version": "3.12.5"
  }
 },
 "nbformat": 4,
 "nbformat_minor": 5
}
