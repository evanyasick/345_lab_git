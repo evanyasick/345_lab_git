{
 "cells": [
  {
   "cell_type": "markdown",
   "id": "voluntary-siemens",
   "metadata": {},
   "source": [
    "# `pybd_gui` Overview"
   ]
  },
  {
   "cell_type": "markdown",
   "id": "established-lounge",
   "metadata": {},
   "source": [
    "`pybd_gui` is designed to help students in EGR 345 lab auto-generate Arduino or Raspberry Pi code for performing real-time experiments on dynamic systems.  These experiments may include feedback control.\n",
    "\n",
    "In order to auto-generate the code, the software takes a template file and inserts code blocks at certain points.  These code blocks are based on the block diagram system that students create using the gui.  (A GUI is a graphical user-interface.)"
   ]
  },
  {
   "cell_type": "markdown",
   "id": "southeast-landscape",
   "metadata": {},
   "source": [
    "## Code insertion points\n",
    "\n",
    "If you search through the template file, you will find the following points were `pybd_gui` inserts code:\n",
    "\n",
    "### `//bdsysinitcode`\n",
    "\n",
    "This is the code the initializes or creates the blocks in the model."
   ]
  },
  {
   "cell_type": "markdown",
   "id": "bored-swaziland",
   "metadata": {},
   "source": [
    "### `//bdsyswelcomecode`\n",
    "\n",
    "This is a spot where a welcome message can be printed that would help verify that the correct code is being run."
   ]
  },
  {
   "cell_type": "markdown",
   "id": "urban-fiber",
   "metadata": {},
   "source": [
    "### `//bdsyssetupcode`\n",
    "\n",
    "The main purpose of the setup code is to specify the inputs for each block.  Specifying that certain pins are outputs would also be done here.  This code is placed inside the `setup` function for an Arduino."
   ]
  },
  {
   "cell_type": "markdown",
   "id": "million-damages",
   "metadata": {},
   "source": [
    "### `//bdsysmenucode`\n",
    "\n",
    "The menu code is mainly for allowing the user to set certain block parameters before running a test.  An example of this would be allowing the user to change `kp` and `kd` for PD tuning."
   ]
  },
  {
   "cell_type": "markdown",
   "id": "guided-piece",
   "metadata": {},
   "source": [
    "### `//bdsysloopcode`\n",
    "\n",
    "This is the \"main\" code that runs the control logic for each time step of the experiment.  This code is inside the `loop` function of an Arduino."
   ]
  },
  {
   "cell_type": "markdown",
   "id": "radio-confusion",
   "metadata": {},
   "source": [
    "### `//bdsysprintcode`\n",
    "\n",
    "The print code handles printing data to the serial monitor for Arduino or saving data to a csv file if using Arduino as the main device.  When building the block diagram system model, you have to set the print blocks to determine which blocks outputs are printed."
   ]
  },
  {
   "cell_type": "markdown",
   "id": "documented-moscow",
   "metadata": {},
   "source": [
    "## Model Creation"
   ]
  },
  {
   "cell_type": "code",
   "execution_count": null,
   "id": "special-muslim",
   "metadata": {},
   "outputs": [],
   "source": []
  },
  {
   "cell_type": "markdown",
   "id": "scientific-equilibrium",
   "metadata": {},
   "source": [
    "## Code Generation"
   ]
  },
  {
   "cell_type": "code",
   "execution_count": null,
   "id": "metallic-hardwood",
   "metadata": {},
   "outputs": [],
   "source": []
  }
 ],
 "metadata": {
  "kernelspec": {
   "display_name": "Python 3",
   "language": "python",
   "name": "python3"
  },
  "language_info": {
   "codemirror_mode": {
    "name": "ipython",
    "version": 3
   },
   "file_extension": ".py",
   "mimetype": "text/x-python",
   "name": "python",
   "nbconvert_exporter": "python",
   "pygments_lexer": "ipython3",
   "version": "3.9.13"
  }
 },
 "nbformat": 4,
 "nbformat_minor": 5
}
