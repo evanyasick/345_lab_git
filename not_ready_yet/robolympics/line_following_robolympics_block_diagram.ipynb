{
 "cells": [
  {
   "cell_type": "markdown",
   "id": "cc0bd2e7-e786-4359-b65b-6846e0955bd9",
   "metadata": {},
   "source": [
    "# Line Following Using the Block Diagram Software"
   ]
  },
  {
   "cell_type": "markdown",
   "id": "a55a945c-d373-4614-8988-1cbf569a8fc0",
   "metadata": {},
   "source": [
    "## Closed-Loop Block Diagram"
   ]
  },
  {
   "cell_type": "markdown",
   "id": "ee674cc6-efa5-4afe-afcc-ee9f7b59ffbc",
   "metadata": {},
   "source": [
    "<img src=\"https://drive.google.com/uc?id=1Y-WM2YNfOgrpF3vEYrL-WR7WqamIgBcn\" width=500px>"
   ]
  },
  {
   "cell_type": "markdown",
   "id": "ae190ddf-257c-4b57-a9bc-9b4c754c3b64",
   "metadata": {},
   "source": [
    "Feedback control can be implemented based on the typical closed-loop block diagram shown above.  We will use feedback in this form to determine the term $v_{turm}$ used to keep the line in the center of the line sensor.  The inputs to the left and right wheels will then be:\n",
    "\n",
    "$$v_{left} = v_{forward} \\pm v_{turn}$$\n",
    "$$v_{right} = v_{forward} \\mp v_{turn}$$"
   ]
  },
  {
   "cell_type": "markdown",
   "id": "e8e96602-10bf-44f6-aa3e-47e84789928a",
   "metadata": {},
   "source": [
    "$u$ is the input to the closed-loop system and represents the desired value we want the output to reach.  For the line following robots, $u$ is a constant of 3500, which would mean that the line sensor is centered over the line.  $y$ is the line sensor reading."
   ]
  },
  {
   "cell_type": "markdown",
   "id": "137f8190-15bc-4611-9e75-4c361fd4b4ae",
   "metadata": {},
   "source": [
    "### Sign Convention and Pulse Tests\n",
    "\n",
    "It is imperative that you determine the correct signs on the $v_{turn}$ terms.  For example, if the line sensor is reading 2500, then the error would be \n",
    "\n",
    "$$e = u-y = 3500-2500 = +1000$$\n",
    "\n",
    "If we are using P control, then\n",
    "\n",
    "$$v_{turn} = K_p \\cdot e$$\n",
    "\n",
    "So, positive error would lead to $v_{turn}$ being positive.  Positive $v_{turn}$ must then cause the line sensor reading to increase in order for error to decrease.  If the opposite happens, then the robot will turn the wrong way and the error will increase rather than decrease."
   ]
  },
  {
   "cell_type": "markdown",
   "id": "2234f2cd-b9d1-4aa7-a883-d1239dc321a0",
   "metadata": {},
   "source": [
    "#### Open-Loop Pulse Tests on the Front and Back Line Sensors\n",
    "\n",
    "In order to determine the correct signs on the $v_{turn}$ terms, you need to perform open-loop pulse tests.  Create a pulse input block to serve as $v_{turn}$ and verify that a positive turn pulse causes the line sensor reading to increase and a negative turn pulse cause the line sensor reading to decrease.\n",
    "\n",
    "**Note:**  The Arduino Mega code determines which line sensor to read and return based on the sign of the commanded forward voltage.  It returns the front line sensor value if the cart has a positive forward voltage and it returns the rear line sensor if forward voltage is negative.  The Arduino code defines the forward voltage as the average of the left and right voltages that it is sent:\n",
    "\n",
    "$$v_{forward} = \\frac{v_{left} + v_{right}}{2}$$\n",
    "\n",
    "Since we want to verify the sign of the turn pulse for both front and rear line sensors, you will need to run two open-loop pulse tests, one with a positive $v_{forward}$ and one with a negative $v_{forward}$.  Choosing a small value such as $v_{forward} = \\pm10$ will allow you to specify which line sensor to read but will not be enough to overcome friction so that the robot doesn't run away. "
   ]
  },
  {
   "cell_type": "markdown",
   "id": "69040704-3233-4aee-a9af-a8bdc46d87d7",
   "metadata": {},
   "source": [
    "## $G_{cart}$ Macro and Two Outputs\n",
    "\n",
    "Note that if you want to create a new block diagram involving the $G_{cart}$ plant, there is a macro that creates the correct plant along with its actuator and sensors.  \n",
    "\n",
    "Also note that because $G_{cart}$ has two outputs, you specify which sensor you want to use.  For example, for line following, you want to use `line_sense` as the second input to the summing junction."
   ]
  },
  {
   "cell_type": "markdown",
   "id": "47e33ed9-0400-470c-8072-59be8730feed",
   "metadata": {},
   "source": [
    "## P Control Forward and Backward"
   ]
  },
  {
   "cell_type": "markdown",
   "id": "5527b039-707c-41ed-8870-4311b3930be2",
   "metadata": {},
   "source": [
    "Once you have verified the signs of the $v_{turn}$ terms using the open-loop pulse tests, you are ready to do P control.  Keep in minde that the range of errors from the deisred versus actual line sensor reading is fairly large ($\\pm3500$) while the range of motor voltages that the H-bridge can handle is $\\pm400$.  So, you will want to choose $K_p$ appropriately.  You will probably also want to use an adjustable saturation block on $v_{turn}$ and on $v_{left}$ and $v_{right}$.  You will also need to choose a larger $v_{forward}$ so that your robot goes around the track.  \n",
    "\n",
    "**Note:** You must follow the line forward and backwards based on setting $v_{forward}$ to a positive or negative number.  This means you probably want $v_{forward}$ to be a menu parameter."
   ]
  },
  {
   "cell_type": "markdown",
   "id": "71f04131-505f-47c5-8774-19ec1c5f9d96",
   "metadata": {},
   "source": [
    "## PD Tuning\n",
    "\n",
    "Once you have P control line following working, you are probably ready to try PD control and put some effort into tuning your line following.  $K_p$, $K_d$. and $v_{forward}$ are parameters you will want to tune along with the limits one your saturation blocks."
   ]
  }
 ],
 "metadata": {
  "kernelspec": {
   "display_name": "Python 3 (ipykernel)",
   "language": "python",
   "name": "python3"
  },
  "language_info": {
   "codemirror_mode": {
    "name": "ipython",
    "version": 3
   },
   "file_extension": ".py",
   "mimetype": "text/x-python",
   "name": "python",
   "nbconvert_exporter": "python",
   "pygments_lexer": "ipython3",
   "version": "3.11.6"
  }
 },
 "nbformat": 4,
 "nbformat_minor": 5
}
