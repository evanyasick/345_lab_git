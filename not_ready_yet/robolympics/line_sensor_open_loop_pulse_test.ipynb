{
 "cells": [
  {
   "cell_type": "markdown",
   "id": "6746528e",
   "metadata": {},
   "source": [
    "# Line Sensor Open-Loop Pulse Test"
   ]
  },
  {
   "cell_type": "markdown",
   "id": "8ed79fe5",
   "metadata": {},
   "source": [
    "<img src=\"https://drive.google.com/uc?id=1g4pR70omukseJnQvXQRpLS0eQB_YeQND\" width=500px>"
   ]
  },
  {
   "cell_type": "code",
   "execution_count": null,
   "id": "9f66c5a1",
   "metadata": {},
   "outputs": [],
   "source": []
  }
 ],
 "metadata": {
  "kernelspec": {
   "display_name": "Python 3 (ipykernel)",
   "language": "python",
   "name": "python3"
  },
  "language_info": {
   "codemirror_mode": {
    "name": "ipython",
    "version": 3
   },
   "file_extension": ".py",
   "mimetype": "text/x-python",
   "name": "python",
   "nbconvert_exporter": "python",
   "pygments_lexer": "ipython3",
   "version": "3.11.6"
  }
 },
 "nbformat": 4,
 "nbformat_minor": 5
}
