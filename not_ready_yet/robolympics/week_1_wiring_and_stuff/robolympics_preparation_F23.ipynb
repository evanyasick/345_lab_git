{
 "cells": [
  {
   "cell_type": "markdown",
   "id": "sonic-nylon",
   "metadata": {},
   "source": [
    "# Robolympics Preparation"
   ]
  },
  {
   "cell_type": "markdown",
   "id": "dynamic-likelihood",
   "metadata": {},
   "source": [
    "## First Steps\n",
    "\n",
    "- `cd 345_lab_git`\n",
    "- `git pull origin main`\n",
    "    - retrieves latest lab content\n",
    "- `upgrade_pybd_pip_stuff.sh`\n",
    "    - update Dr. Krauss' python packages"
   ]
  },
  {
   "cell_type": "markdown",
   "id": "parallel-bacteria",
   "metadata": {},
   "source": [
    "## Main Steps\n",
    "\n",
    "- [get VNC working](#getvncworking)\n",
    "    - get the static IP address of your RPi and verify you can remotely log in using a VNC client\n",
    "- [assemble new chassis](#chassisassembly) with dual line sensors\n",
    "- [verify both line sensors are working](#linesensors)\n",
    "    - do this using USB serial\n",
    "    - the RPi is just a desktop (does not use i$^2$c)\n",
    "- [connect the level shifter](#connectlevelshifter) for i$^2$c\n",
    "- [reprogram the Mega](#standardmegacode) with the \"standard\" Robolympics code\n",
    "- [verify motor wiring polarity](#motorpolarity)\n",
    "- do a pulse test to verify \"turn\" polarity with both line sensors\n",
    "- PD tuning for line following in both directions (forwards and backwards)"
   ]
  },
  {
   "cell_type": "markdown",
   "id": "painful-sheep",
   "metadata": {
    "slideshow": {
     "slide_type": "subslide"
    }
   },
   "source": [
    "## Big Ideas\n",
    "\n",
    "- from this point forward, the `pybd_gui` will be used to generate C code for a Raspberry Pi\n",
    "- the RPi will communicate with two Arduinos using i$^2$c\n",
    "- the RPi is a 3.3V device and the Arduinos are 5V devices\n",
    "- therefore we need a level shifter between them\n",
    "- the red PCB that goes on top of the RPi contains a level shifter (the small, blue PCB)\n",
    "- i$^2$c requires four wires:\n",
    "    - GND\n",
    "    - $V_{cc}$ (3.3V for the RPi and 5V for the Arduinos\n",
    "    - `SDA` (data)\n",
    "    - `SCL` (clock)\n",
    "- the `SDA` and `SCL` signals must pass through the level shifter\n",
    "- `5V` connects to `HV` on the Arduino side of the level shifter\n",
    "- `3.3V` connects to `LV` on the RPi side of the level shifter\n",
    "- **If you connect `5V` to a Raspberry Pi, you may damage it.**\n",
    "    -  because of supply chain issues, they are very hard to find right now\n",
    "- **Note:** Raspberry Pi 4's are prone to overheat, so it is important that we allow air to circulate on all sides.\n",
    "    - we will mount the RPi's on brass standoffs to allow air behind them"
   ]
  },
  {
   "cell_type": "markdown",
   "id": "enabling-differential",
   "metadata": {},
   "source": [
    "**Note:** Do not worry about attaching the wires to the Arduino Mega shield.  That will be handled in a [later section](#motorpolarity)."
   ]
  },
  {
   "cell_type": "markdown",
   "id": "811ebd58-1ef1-4774-9a8c-3ed11ddcd209",
   "metadata": {},
   "source": [
    "<a id='getvncworking'></a>\n",
    "\n",
    "##  Verify Remote Login using VNC\n",
    "\n"
   ]
  },
  {
   "cell_type": "markdown",
   "id": "a1ae49e8-785c-43f4-acfe-cf4a58816ff8",
   "metadata": {},
   "source": [
    "In order to drive the robots around without wires attached to them (which would be lamne), we need to use a remote desktop application called VNC.  You will need the VNC viewer application on your laptop (one per team).  If you google \"vnc viewer\", you should find this link:\n",
    "\n",
    "[https://www.realvnc.com/en/connect/download/viewer/](https://www.realvnc.com/en/connect/download/viewer/)\n",
    "\n"
   ]
  },
  {
   "cell_type": "markdown",
   "id": "b5d5fac2-261b-4ff0-a83c-f375ad1a275f",
   "metadata": {},
   "source": [
    "Before you can log into your RPi, you need to know the static IP address of the RPi.  If you type the command `ifconfig`, it should print the ip address for `wlan0`.   Only the last three digits of the IP addresses are different from one another.  They should all be of the form `35.40.171.XXX`.  Write the IP address down somewhere so you can type it into VNC viewer on your laptop."
   ]
  },
  {
   "cell_type": "markdown",
   "id": "8bee5b19-4d19-48e3-a351-b11e3bc24343",
   "metadata": {},
   "source": [
    "<a id='chassisassembly'></a>\n",
    "\n",
    "##  Assembling the New Chassis\n",
    "\n",
    "PDF Instructions on assembling the lower part of the chassis:\n",
    "\n",
    "View the PDF:\n",
    "[https://drive.google.com/open?id=1_S1T6V7T89gu4K-j0FoAz_MwrK9mJd4F](https://drive.google.com/open?id=1_S1T6V7T89gu4K-j0FoAz_MwrK9mJd4F)\n",
    "\n",
    "Download the PDF:\n",
    "[https://drive.google.com/uc?export=download&id=1_S1T6V7T89gu4K-j0FoAz_MwrK9mJd4F](https://drive.google.com/uc?export=download&id=1_S1T6V7T89gu4K-j0FoAz_MwrK9mJd4F)"
   ]
  },
  {
   "cell_type": "markdown",
   "id": "b64f341d-3e37-475a-a347-53b6a7195fe8",
   "metadata": {},
   "source": [
    "<a id='linesensors'></a>\n",
    "\n",
    "## Verify Both Line Sensors are Working"
   ]
  },
  {
   "cell_type": "markdown",
   "id": "796304b8-2574-487c-b6fa-3fa32590d74b",
   "metadata": {},
   "source": [
    "There is Arduino Mega code in the Robolympics week 1 folder `week_1_wiring_and_stuff` called `verify_both_line_sensors`.  This code uses only the Mega (run the Arduino software either on the RPi or your laptop - but you don't need i$^2$c yet.\n",
    "\n",
    "Calibrate both line sensors at the same time sliding them across a line - each sensor on the array needs to \"see\" black and white to calibrate correctly.  A message should be shown after calibration.  Successful calibration should show a row of fairly small numbers and a second row of fairly large numbers.  If you do not see 7 small numbers in one row and 7 large numbers in the second row, something is wrong.\n",
    "\n",
    "After calibration finishes, the serial monitor should show the value of each sensor along with the position value (where the line is under the sensor) for both the front and rear sensor.  Verify that both sensors are reading correctly.\n"
   ]
  },
  {
   "cell_type": "markdown",
   "id": "alert-subsection",
   "metadata": {},
   "source": [
    "<a id='connectlevelshifter'></a>\n",
    "\n",
    "## Connect Level Shifter"
   ]
  },
  {
   "cell_type": "markdown",
   "id": "stuffed-examination",
   "metadata": {},
   "source": [
    "### Two Versions of the Level Shifter Hat"
   ]
  },
  {
   "cell_type": "markdown",
   "id": "regulation-summary",
   "metadata": {},
   "source": [
    "A PCB that attaches to an Arduino is called a shield (the Arduino people just made that up).  For whatever reasons, Raspberry Pi people decided to call their PCB's hats.  \n",
    "\n",
    "There are two versions of the level shifter hat as shown below"
   ]
  },
  {
   "cell_type": "markdown",
   "id": "sunset-farming",
   "metadata": {},
   "source": [
    "<img src=\"https://drive.google.com/uc?id=17kqEUa4qldTGYS4GdhmoBlBRwUGBUoFi\" width=500px>"
   ]
  },
  {
   "cell_type": "markdown",
   "id": "typical-agreement",
   "metadata": {},
   "source": [
    "Version A on the left has the `SDA` and `SCL` wires on the front of the hat.  Version B on the right has those wires on the back as shown below:"
   ]
  },
  {
   "cell_type": "markdown",
   "id": "integrated-fisher",
   "metadata": {},
   "source": [
    "<img src=\"https://drive.google.com/uc?id=1837ZeTIzj-jpiWDQF6WN6pFSpRX07Gr1\" width=300px>"
   ]
  },
  {
   "cell_type": "markdown",
   "id": "descending-worry",
   "metadata": {},
   "source": [
    "Once you have your RPi mounted on the brass standoffs, you are ready to attach the hat and make the connections to the Arduinos:"
   ]
  },
  {
   "cell_type": "markdown",
   "id": "vocational-scenario",
   "metadata": {},
   "source": [
    "<img src=\"https://drive.google.com/uc?id=18BOzmnBxxeEuUiEn_v1lI4IMmTro6XkG\" width=500px>"
   ]
  },
  {
   "cell_type": "markdown",
   "id": "timely-animal",
   "metadata": {},
   "source": [
    "On an Arduino Mega, `SDA` is pin 20 and `SCL` is pin 21:"
   ]
  },
  {
   "cell_type": "markdown",
   "id": "liquid-hanging",
   "metadata": {},
   "source": [
    "<img src=\"https://drive.google.com/uc?id=1V06f6bpEzOPtpejyN62T72g_S-c7ecX0\" width=500px>"
   ]
  },
  {
   "cell_type": "markdown",
   "id": "15e7f528-a9ce-4803-a3ec-766744d880c6",
   "metadata": {},
   "source": [
    "<a id='standardmegacode'></a>\n",
    "\n",
    "## Reprogram the Mega"
   ]
  },
  {
   "cell_type": "markdown",
   "id": "7238a069-a7e5-4ccb-8a35-900646344a81",
   "metadata": {},
   "source": [
    "For the remainder of the Robolympics project, the Arduino Mega will run the \"standard\" i$^2$c code that sends signals to the motors and reads the line sensors.  That code is in the folder `cart_mega_code_i2c_wiringpi` in the top level of the Robolympics lab folder."
   ]
  },
  {
   "cell_type": "markdown",
   "id": "statutory-taylor",
   "metadata": {},
   "source": [
    "<a id='i2cverify'></a>\n",
    "\n",
    "##  Verify i$^2$c Connections\n"
   ]
  },
  {
   "cell_type": "markdown",
   "id": "narrative-program",
   "metadata": {},
   "source": [
    "In this step, we want to verify that the RPi and Arduio Mega can talk to each other over i$^2$c.  Before you can do this, you need to program the Mega using the Arduino code `cart_mega_code_i2c_wiringpi.ino` which should be in the `robolympics` folder under `345_lab_git`."
   ]
  },
  {
   "cell_type": "markdown",
   "id": "designed-order",
   "metadata": {},
   "source": [
    "Assuming you were able to build `rpi_i2c_loop_test.c` in a previous step, you should be able to run that code once the i$2$c connections have been made and the Arduino Mega has been reprogrammed.  A successful test will print multiple messages to the RPi terminal and the last two lines should say\n",
    "\n",
    "`any_fail = 0`\n",
    "\n",
    "`num_fail = 0`"
   ]
  },
  {
   "cell_type": "markdown",
   "id": "behavioral-intersection",
   "metadata": {},
   "source": [
    "<a id='motorpolarity'></a>\n",
    "\n",
    "##  Verify Motor Wiring Polarity\n",
    "\n"
   ]
  },
  {
   "cell_type": "markdown",
   "id": "stainless-consistency",
   "metadata": {},
   "source": [
    "You need to verify that the motor wires are connected to the Arduino Mega motor shield correctly.  There are two stages to this:\n",
    "\n",
    "- a block diagram `csv` file called `right_wheel_pulse_forward.csv` is in the robolymipcs week 1 folder\n",
    "    - generating code based on this block diagram and then compiling and running it should cause the right wheel of your robot to rotate forward\n",
    "        - if this is not the case, adjust the wires\n",
    "            - **do not** fix it in software \n",
    "- create a block diagram that sends forward and backward pulses to each wheel one at a time and generate and run C code from that block diagram\n",
    "    - again, verify that that the wiring is correct \n",
    "- you do not need to calibrate the line sensors for these tests"
   ]
  },
  {
   "cell_type": "markdown",
   "id": "0fe11d8b-e345-4f67-b4e2-fd5ff457fe60",
   "metadata": {},
   "source": [
    "## Open-Loop Turn Pulse Testing\n",
    "\n",
    "In order for line-following feedback control to work, you need to verify that a positive \"turn\" command causes the line sensor reading to increase.  You also need to verify that a negative turn pulse causes the line sensor reading to decrease.\n",
    "\n",
    "- this needs to be true for both the front and read line sensors"
   ]
  },
  {
   "cell_type": "code",
   "execution_count": null,
   "id": "2830f325-f301-495f-a715-e8dc1a18514d",
   "metadata": {},
   "outputs": [],
   "source": []
  }
 ],
 "metadata": {
  "kernelspec": {
   "display_name": "Python 3 (ipykernel)",
   "language": "python",
   "name": "python3"
  },
  "language_info": {
   "codemirror_mode": {
    "name": "ipython",
    "version": 3
   },
   "file_extension": ".py",
   "mimetype": "text/x-python",
   "name": "python",
   "nbconvert_exporter": "python",
   "pygments_lexer": "ipython3",
   "version": "3.11.6"
  }
 },
 "nbformat": 4,
 "nbformat_minor": 5
}
