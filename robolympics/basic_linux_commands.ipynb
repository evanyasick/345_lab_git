{
 "cells": [
  {
   "cell_type": "markdown",
   "id": "knowing-current",
   "metadata": {},
   "source": [
    "# Basic Linux Commands"
   ]
  },
  {
   "cell_type": "markdown",
   "id": "delayed-witness",
   "metadata": {},
   "source": [
    "The main commands you need to learn to succeed in the Robolympics project are `cd`, `ls`, `cp`, and `pwd` along with the main `git` command: `git pull origin main`."
   ]
  },
  {
   "cell_type": "markdown",
   "id": "boolean-missouri",
   "metadata": {},
   "source": [
    "## `cd`\n",
    "\n",
    "`cd` means change directory.  There are several forms we could use:\n",
    "\n",
    "- `cd 345_lab_git`\n",
    "    - `cd` followed by the name of a folder changes the directory into the folder\n",
    "- `cd` \n",
    "    - `cd` by itself takes you to your `home` folder\n",
    "        - since your username is `pi`, your home folder is `/home/pi`\n",
    "- `cd ..`\n",
    "    - `..` means one level up, so this command takes you up one folder in the tree\n",
    "    - if you were in `/home/pi/folder1/subfolder1`, this command would take you \"up\"\n",
    "      to `/home/pi/folder1`\n",
    "- `cd ~/345_lab_git`\n",
    "    - '~' is a short-cut for your home folder, so this command would take you to `/home/pi/345_lab_git`\n",
    "        - `cd 345_lab_git` only works correctly if you are already in your `home` folder\n",
    "        - `cd ~/345_lab_git` would work from anywhere"
   ]
  },
  {
   "cell_type": "markdown",
   "id": "cognitive-consumer",
   "metadata": {},
   "source": [
    "## `ls`\n",
    "\n",
    "`ls` means list the contents of the current folder.  There are many optional flags and one optional argument.\n",
    "\n",
    "Here are some different we could use `ls`:\n",
    "\n",
    "- `ls`\n",
    "    - by itself, `ls` prints our the names of all the visible files and folders in the current directory\n",
    "- `ls -a`\n",
    "    - show all of the contents of the current folder, including hidden items\n",
    "        - in Linux, any folder or filename that starts with a period `.` is hidden\n",
    "            - `.git` is a hidden folder in all git repos\n",
    "- `ls *.c`\n",
    "    - show all `.c` files in the current folder\n",
    "    - `*` is the wild card character that can match any number of characters\n",
    "        - `*` can also match zero characters\n",
    "- `ls -alh`\n",
    "    - list the contents of the current folder showing *all* files and folders in a *long*, *human-readable* format\n",
    "    - `-alh` is the most common flag I use\n",
    "- `ls -alh *.c`\n",
    "    - show all `.c` files in a long, human-readable format\n",
    "    - this is how you check the modification or creation time stamp for all `.c` files"
   ]
  },
  {
   "cell_type": "markdown",
   "id": "front-spending",
   "metadata": {},
   "source": [
    "## `cp`"
   ]
  },
  {
   "cell_type": "code",
   "execution_count": null,
   "id": "stylish-rugby",
   "metadata": {},
   "outputs": [],
   "source": []
  },
  {
   "cell_type": "markdown",
   "id": "brown-partner",
   "metadata": {},
   "source": [
    "## `pwd`\n",
    "\n",
    "- `pwd` means print working directory\n",
    "    - tell me where I am in the file structure\n",
    "    - what folder am I currently in?"
   ]
  },
  {
   "cell_type": "code",
   "execution_count": null,
   "id": "loving-jason",
   "metadata": {},
   "outputs": [],
   "source": []
  }
 ],
 "metadata": {
  "kernelspec": {
   "display_name": "Python 3",
   "language": "python",
   "name": "python3"
  },
  "language_info": {
   "codemirror_mode": {
    "name": "ipython",
    "version": 3
   },
   "file_extension": ".py",
   "mimetype": "text/x-python",
   "name": "python",
   "nbconvert_exporter": "python",
   "pygments_lexer": "ipython3",
   "version": "3.9.13"
  }
 },
 "nbformat": 4,
 "nbformat_minor": 5
}
