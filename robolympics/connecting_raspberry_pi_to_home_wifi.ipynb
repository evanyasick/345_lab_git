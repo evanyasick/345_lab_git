{
 "cells": [
  {
   "cell_type": "markdown",
   "id": "2f6041ec",
   "metadata": {},
   "source": [
    "# Connecting a Raspberry Pi to Your Home Wifi"
   ]
  },
  {
   "cell_type": "markdown",
   "id": "d9ad5b22",
   "metadata": {},
   "source": [
    "Several of you have expressed interest in taking the EGR 345 robots home to work on the final project.  I have written two python scripts to support this."
   ]
  },
  {
   "cell_type": "markdown",
   "id": "bcccd5e7",
   "metadata": {},
   "source": [
    "## Before Leaving Campus"
   ]
  },
  {
   "cell_type": "markdown",
   "id": "1e84b328",
   "metadata": {},
   "source": [
    "In order to get my two python scripts onto your Rapsberry Pi, you need to run our normal `git` command while your Raspberry Pi is still connected to the campus wifi:\n",
    "\n",
    "```\n",
    "cd 345_lab_git\n",
    "git pull origin main\n",
    "```"
   ]
  },
  {
   "cell_type": "markdown",
   "id": "ab1e87a1",
   "metadata": {},
   "source": [
    "This particular update should add three files to the folder `~/345_lab_git/scripts_345`:\n",
    "\n",
    "```\n",
    "dhcp_interfaces_blank\n",
    "switch_to_home_wifi.py\n",
    "switch_to_on_campus_wifi.py\n",
    "```\n",
    "\n",
    "One way you will know if this worked or not is to go back to your home folder and try to run the scripts:\n",
    "\n",
    "```\n",
    "cd\n",
    "switch_to_home_wifi.py\n",
    "```\n",
    "\n",
    "The first time you run this script successfully, it will print the message:\n",
    "\n",
    "```\n",
    "your ip address is valid, backing up your interfaces file\n",
    "```\n",
    "\n",
    "After the first time, you should see the message \n",
    "\n",
    "```\n",
    "static intefaces file already backuped\n",
    "```"
   ]
  },
  {
   "cell_type": "markdown",
   "id": "5658b819",
   "metadata": {},
   "source": [
    "## Big Ideas"
   ]
  },
  {
   "cell_type": "markdown",
   "id": "e2834924",
   "metadata": {},
   "source": [
    "In order for you to be able to use VNC to log into your Raspbery Pi, your computer needs to be on the same network as the RPi and you need to know the ip address of your Rpi.  There are two files that are needed to connect to a wifi network correctly:\n",
    "\n",
    "```\n",
    "/etc/network/interfaces\n",
    "/etc/wpa_supplicant/wpa_supplicant.conf\n",
    "```\n",
    "\n",
    "My python scripts handle the file `/etc/network/interfaces`, toggling back and forth between a static ip address setup that will only work in Kennnedy and Keller and a dhcp one that *should hopefully* work on your home router.\n",
    "\n",
    "You will need to manually edit `wpa_supplicant.conf` to add the pre-shared key for your routers netword ssid."
   ]
  },
  {
   "cell_type": "markdown",
   "id": "289761bd",
   "metadata": {},
   "source": [
    "## Assumptions"
   ]
  },
  {
   "cell_type": "markdown",
   "id": "c8b9987a",
   "metadata": {},
   "source": [
    "Because the RPi will not be able to connect to your home wifi network when you first bring it home, you will need to be able to connect it to a TV or monitor along with a USB keyboard and mouse to edit `wpa_supplicant.conf` and to run my script.\n",
    "\n",
    "Additionally, you may need to know how to access your router's admin page (or use the router manufacturer's app) to resevre and ip address for your Raspberry Pi.  (You might be able to get away without doing this if your router leaves the dhcp addresses set for a reasonable period of time.)"
   ]
  },
  {
   "cell_type": "markdown",
   "id": "ee30dffc",
   "metadata": {},
   "source": [
    "## Mirco HDMI Cable"
   ]
  },
  {
   "cell_type": "markdown",
   "id": "c425491f",
   "metadata": {},
   "source": [
    "The Raspberry Pi uses a micro hdmi cable to connect to a monitor.  You will need to borrow one of these cables to connect the RPi to your TV.  You may also want to borrow a female-female hdmi connector if you cannot easily get to the back of your TV."
   ]
  },
  {
   "cell_type": "markdown",
   "id": "ed1edda3",
   "metadata": {},
   "source": [
    "<img src=\"https://drive.google.com/uc?id=1itse9XynKPmEUqqkaXK32YHpV-1LaiHL\" width=300px>"
   ]
  },
  {
   "cell_type": "markdown",
   "id": "4823e0d1",
   "metadata": {},
   "source": [
    "<img src=\"https://drive.google.com/uc?id=1iyL7y_sy5-Sdc0eHDpepATSqNF4b8dyN\" width=400px>"
   ]
  },
  {
   "cell_type": "markdown",
   "id": "f5f20472",
   "metadata": {},
   "source": [
    "## Editting `wpa_supplicant.conf`\n",
    "\n",
    "You need to edit the file `/etc/wpa_supplicant/wpa_supplicant.conf` to add your home wifi network ssid and pre-shared key.  To do this, use the command\n",
    "\n",
    "```\n",
    "sudo geany /etc/wpa_supplicant/wpa_supplicant.conf\n",
    "```\n",
    "\n",
    "Remember to use tab completion to type less and make it easier to get it right.\n",
    "\n",
    "When you first open the file, you should see the GVSU settings:\n",
    "\n",
    "```\n",
    "ctrl_interface=DIR=/var/run/wpa_supplicant GROUP=netdev\n",
    "update_config=1\n",
    "country=US\n",
    "\n",
    "network={\n",
    "\tssid=\"GV-Student\"\n",
    "\tkey_mgmt=WPA-EAP\n",
    "\teap=PEAP\n",
    "\tidentity=\"egr-robot-pi\"\n",
    "\tpassword=hash:(long string here)\n",
    "\tphase1=\"peaplabel=0\"\n",
    "\tphase2=\"auth=MSCHAPv2\"\n",
    "}\n",
    "\n",
    "```"
   ]
  },
  {
   "cell_type": "markdown",
   "id": "953cd675",
   "metadata": {},
   "source": [
    "Below the final curly brace, add the information for your wifi network:\n",
    "\n",
    "\n",
    "```\n",
    "network={\n",
    "   ssid=\"Your_Network_Name\"\n",
    "   psk=\"Your_password\"\n",
    "}\n",
    "```"
   ]
  },
  {
   "cell_type": "markdown",
   "id": "8eb59aa5",
   "metadata": {},
   "source": [
    "Save the file and reboot the RPi.  If you are successful, then the RPI reboots you should see a blue wifi symbol in the top right of the screen that flashes and eventually shows a certain number of curves indicating the signal strength."
   ]
  },
  {
   "cell_type": "markdown",
   "id": "571d9830",
   "metadata": {},
   "source": [
    "## `ifconfig`\n",
    "\n",
    "Once your RPi is connectedt to your home wifi, use the command `ifconfig` to get the ip address.  For most routers, this will be something like `192.168.0.x` or `192.168.1.x`. Some router brands use ip addresses that start with `10`."
   ]
  },
  {
   "cell_type": "markdown",
   "id": "1bb5bcd1",
   "metadata": {},
   "source": [
    "## When you return to campus\n",
    "\n",
    "Use the command `switch_to_on_campus_wifi.py` to connect to the school network using your static ip address.  If you are careful, you could remember to run the command over vnc before you shut it down at home.  Otherwise you will need to connect to a monitor, keyboard, and mouse when you get to the lab."
   ]
  }
 ],
 "metadata": {
  "kernelspec": {
   "display_name": "Python 3 (ipykernel)",
   "language": "python",
   "name": "python3"
  },
  "language_info": {
   "codemirror_mode": {
    "name": "ipython",
    "version": 3
   },
   "file_extension": ".py",
   "mimetype": "text/x-python",
   "name": "python",
   "nbconvert_exporter": "python",
   "pygments_lexer": "ipython3",
   "version": "3.11.6"
  }
 },
 "nbformat": 4,
 "nbformat_minor": 5
}
