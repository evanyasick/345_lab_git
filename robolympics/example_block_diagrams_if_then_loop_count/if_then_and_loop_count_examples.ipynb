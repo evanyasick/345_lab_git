{
 "cells": [
  {
   "cell_type": "markdown",
   "id": "d9c781c9",
   "metadata": {},
   "source": [
    "## Loop count and if/then blocks\n",
    "\n",
    "Part of event 1 is that your vibration suppression needs to wait before turning on the vibration suppression.  Shockingly, the rules are vague on how long to wait.  Please have your code wait at least one second before turning on the vibration suppression (hint: you probably want to intelligently determine when to turn on the vibration suppression).\n",
    "\n",
    "So, how do you program the `pybd_gui` to wait for a certain period of time to do something?  The answer is to use the `loop_count` block along with a greater than block and an if/then block.\n",
    "\n",
    "There is not currently a block that allows you direct access to time.  Time in seconds is a floating point number and that will require me reworking many things (stupid C and its stupid limited data types).\n",
    "\n",
    "So, there is a block called `loop_count`.  When a test is running, the Raspberry Pi code enters a `for` loop that executes once every 2 ms (500 times per second or 500 Hz).  So, the `for` loop executes `N = stop_t*500` times.  `loop_count` outputs the current `i` value as an integer.  So, time would be `i/500` seconds.  Having your code wait until `loop_count` is greater than 500 would satisfy the need to wait one second.\n",
    "\n",
    "But that means that your vibration suppression voltage needs to be zero until loop count is greater than 500.  An if/then block has three inputs:\n",
    "\n",
    "1. the boolean input (true or false)\n",
    "2. the true input (what the block should output if the boolean input is true)\n",
    "3. the false input (what the block should output if the boolean input if false)\n",
    "\n",
    "Some of you *think* you like code in text better than block diagrams (silly, silly students).  So, here is the code\n",
    "for the if/then block:\n",
    "\n",
    "```C\n",
    "\n",
    "int if_block::find_output(){\n",
    "  //int output;\n",
    "  bool_value = bool_block->read_output();//read in the boolean input\n",
    "  value1 = input1->read_output();//read in the true input\n",
    "  value2 = input2->read_output();//read in the false output\n",
    "  if (bool_value > 0){\n",
    "    //true case\n",
    "    output = value1;\n",
    "  }\n",
    "  else{\n",
    "    //false case\n",
    "    output = value2;\n",
    "  }\n",
    "  return(output);\n",
    "};\n",
    "```"
   ]
  },
  {
   "cell_type": "markdown",
   "id": "e1f314e5",
   "metadata": {},
   "source": [
    "### First example block diagram\n",
    "\n",
    "<img src=\"https://drive.google.com/uc?id=1GmekgXJc5pAFdnvR4aCpBjhK-AoL54z-\" width=650px>"
   ]
  },
  {
   "cell_type": "markdown",
   "id": "4e6de36c",
   "metadata": {},
   "source": [
    "Above is an example block diagram that combines `loop_count` and an if/then block.  The if/then block should output zero until `loop_count` > 500.  When `loop_count` > 500, the output of the if/then block switches from zero to 5.\n",
    "\n",
    "If you want to test this out, the block diagram above is saved as `loop_count_if_then_example.csv` in the `345_lab_git/robolympics` folder.\n",
    "\n",
    "**Note:** The block diagram saved in `loop_count_if_then_example.csv` will not cause your robot to move, it just prints data to `data.txt` that illustrates how to use `loop_count` and the if/then blocks."
   ]
  },
  {
   "cell_type": "markdown",
   "id": "d79a28ce",
   "metadata": {},
   "source": [
    "## A second example\n",
    "\n",
    "`loop_count_if_then_example_2.csv` contains a more involved example that uses `loop_count` and logic blocks to create a pulse input.\n",
    "\n",
    "**Note:** this example does pulse the robot forward a little.\n",
    "\n",
    "<img src=\"https://drive.google.com/uc?id=1GlbKr7AlFVbjvSJoEKG3vXrdZv154Ruh\" width=700px>"
   ]
  }
 ],
 "metadata": {
  "kernelspec": {
   "display_name": "Python 3 (ipykernel)",
   "language": "python",
   "name": "python3"
  },
  "language_info": {
   "codemirror_mode": {
    "name": "ipython",
    "version": 3
   },
   "file_extension": ".py",
   "mimetype": "text/x-python",
   "name": "python",
   "nbconvert_exporter": "python",
   "pygments_lexer": "ipython3",
   "version": "3.11.6"
  }
 },
 "nbformat": 4,
 "nbformat_minor": 5
}
