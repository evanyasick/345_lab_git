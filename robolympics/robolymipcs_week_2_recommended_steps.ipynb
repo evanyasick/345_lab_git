{
 "cells": [
  {
   "cell_type": "markdown",
   "id": "quarterly-genius",
   "metadata": {},
   "source": [
    "# Robolympics Week 2 Guidance"
   ]
  },
  {
   "cell_type": "markdown",
   "id": "abstract-functionality",
   "metadata": {},
   "source": [
    "## Initial Steps"
   ]
  },
  {
   "cell_type": "markdown",
   "id": "located-thong",
   "metadata": {},
   "source": [
    "- git pull:\n",
    "    - first `cd` into `345_lab_git`\n",
    "    - `git pull origin master`\n",
    "    - assume this every week\n",
    "- update software:\n",
    "    - `sw_update_10_27_22.sh`\n",
    "- reprogram the Mega\n",
    "    - battery saving stuff turns off line sensor LEDs when not being read\n",
    "    - also skips reading the line sensor if it isn't calibrated\n",
    "- connect the LED control pin to pin 27 on the Mega\n",
    "    - to make the battery savings actually work\n",
    "- verify that the Uno is programmed for pendulum encoder reading"
   ]
  },
  {
   "cell_type": "markdown",
   "id": "comfortable-civilization",
   "metadata": {},
   "source": [
    "## Motor Wiring Sign Check\n",
    "\n",
    "- use the macro in the GUI to add a cart/pendulum plant with two sensors (line sensor and pendulum encoder)\n",
    "- the plant has two inputs\n",
    "    - the top input is the right wheel\n",
    "    - the bottom input is the left wheel\n",
    "- use multiple pulse inputs to check the motor wiring signs:\n",
    "    - positive pulse = forward motion\n",
    "    - negative pulse = backward motion\n",
    "    - top is right\n",
    "    - bottom is left"
   ]
  },
  {
   "cell_type": "markdown",
   "id": "given-zambia",
   "metadata": {},
   "source": [
    "## Line Sensor Sign Check\n",
    "\n",
    "- each motor will be driven by a signal that is the sum of three things:\n",
    "    - nominal forward voltage\n",
    "    - turn voltage for line following\n",
    "    - vibration suppression voltage\n",
    "- a positive \"turn\" input should cause the line sensor reading to increase\n",
    "    - if this is not true, line following will be unstable\n",
    "    - if the desired line position is 3500 and the reading is 3400, the error is +100\n",
    "    - if the error is positive, P control will lead to a positive \"turn\" voltage\n",
    "    - the positive turn voltage must increase the sensor reading to decrease the error"
   ]
  },
  {
   "cell_type": "markdown",
   "id": "plastic-florida",
   "metadata": {},
   "source": [
    "## PD Tuning for Line Following"
   ]
  },
  {
   "cell_type": "markdown",
   "id": "floral-assist",
   "metadata": {},
   "source": [
    "- make sure that you make use of menu parameters\n",
    "    - you want to quickly tweak $K_p$ and $K_d$\n",
    "- you will also need adjustable saturation blocks\n",
    "    - the motor H-bridge used on the cart has an input range of $\\pm$400\n",
    "        - not the standard 255\n",
    "- keep in mind that the sensor range is 0-7000\n",
    "    - your error range is $\\pm$3500\n",
    "    - pick an initial $K_p$ that maps 3500 to 400 (for example)\n",
    "       - $K_p$ should be fairly small"
   ]
  },
  {
   "cell_type": "markdown",
   "id": "institutional-jewel",
   "metadata": {},
   "source": [
    "## Swept Sine System ID for Vibration Suppression"
   ]
  },
  {
   "cell_type": "markdown",
   "id": "seven-thursday",
   "metadata": {},
   "source": [
    "## PD Tuning for Vibration Suppression"
   ]
  }
 ],
 "metadata": {
  "kernelspec": {
   "display_name": "Python 3",
   "language": "python",
   "name": "python3"
  },
  "language_info": {
   "codemirror_mode": {
    "name": "ipython",
    "version": 3
   },
   "file_extension": ".py",
   "mimetype": "text/x-python",
   "name": "python",
   "nbconvert_exporter": "python",
   "pygments_lexer": "ipython3",
   "version": "3.9.13"
  }
 },
 "nbformat": 4,
 "nbformat_minor": 5
}
