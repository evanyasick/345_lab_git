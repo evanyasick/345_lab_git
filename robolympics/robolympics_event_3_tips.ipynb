{
 "cells": [
  {
   "cell_type": "markdown",
   "id": "structured-probe",
   "metadata": {},
   "source": [
    "## Event 3 Tips"
   ]
  },
  {
   "cell_type": "markdown",
   "id": "indie-denver",
   "metadata": {},
   "source": [
    "### Software Update\n",
    "\n",
    "- `cd 345_lab_git`\n",
    "- `git pull origin main`\n",
    "- `sw_update_5_11_21_22.sh`\n",
    "\n",
    "### Re-Program the Uno\n",
    "\n",
    "The new commands for the servo and encoder will only work after the Uno is reprogrammed.\n",
    "\n",
    "- use the code `pendulum_reader_v2_with_servo.ino` in the folder `345_lab_git/pendulum_reader_v2_with_servo`\n",
    "\n",
    "### Using the new rpi template\n",
    "\n",
    "The new Raspberry Pi template `wiringpi_rpi_template_v_2.c` includes a command to open the servo at the start of the test.  By default, it sends the servo to 0, but you may want it to go to 180 instead.  If your code is called `event3.o`, the servo position at the start of the test can be sent as a positional argument when you run your code:\n",
    "\n",
    "`event3.o 180`\n",
    "\n",
    "\n",
    "### New commands for the servo and encoder reading/zeroing\n",
    "\n",
    "There are three new commands for the servo and encoder:\n",
    "\n",
    "- `servo_write.o`\n",
    "- `read_encoder.0`\n",
    "- `zero_encoder.o`\n",
    "\n",
    "#### `servo_write.o XXX`\n",
    "\n",
    "The servo will help you get the pendulum as close to vertical as possible and release it cleanly.  To command the servo, use the terminal command:\n",
    "\n",
    "`servo_write.o deg`\n",
    "\n",
    "where `deg` is a number between 0 and 180, for example:\n",
    "\n",
    "- `servo_write.o 0`\n",
    "- `servo_write.o 180`\n",
    "- `servo_write.o 90`"
   ]
  },
  {
   "cell_type": "markdown",
   "id": "minimal-scholar",
   "metadata": {},
   "source": [
    "#### `read_encoder.o`\n",
    "\n",
    "Reading the encoder will help you make sure that the encoder is near the desired set point before the servo is opened."
   ]
  },
  {
   "cell_type": "markdown",
   "id": "forty-evans",
   "metadata": {},
   "source": [
    "#### `zero_encoder.o`\n",
    "\n",
    "Zero the encoder in the down position before starting a new test:\n",
    "\n",
    "`zero_encoder.o`\n",
    "\n",
    "### Note\n",
    "\n",
    "Note that you do not put `./` at the beginning of the commands.  That is only if the command is in the current folder. "
   ]
  }
 ],
 "metadata": {
  "kernelspec": {
   "display_name": "Python 3",
   "language": "python",
   "name": "python3"
  },
  "language_info": {
   "codemirror_mode": {
    "name": "ipython",
    "version": 3
   },
   "file_extension": ".py",
   "mimetype": "text/x-python",
   "name": "python",
   "nbconvert_exporter": "python",
   "pygments_lexer": "ipython3",
   "version": "3.9.13"
  }
 },
 "nbformat": 4,
 "nbformat_minor": 5
}
