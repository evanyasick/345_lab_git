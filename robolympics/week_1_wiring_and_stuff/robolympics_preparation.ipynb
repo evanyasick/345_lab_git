{
 "cells": [
  {
   "cell_type": "markdown",
   "id": "photographic-request",
   "metadata": {},
   "source": [
    "# Robolympics Preparation"
   ]
  },
  {
   "cell_type": "markdown",
   "id": "senior-murray",
   "metadata": {},
   "source": [
    "## Main Steps\n",
    "\n",
    "- [re-route motor wires](#motorwiring)\n",
    "- [attach RPi](#attachpi) to vertical aluminum piece\n",
    "    - with overhang for USC-C and hdmi0\n",
    "- update RPi software\n",
    "- verify that you can build RPi C code\n",
    "- verify i$^2$c connections\n",
    "- [verify motor wiring polarity](#motorpolarity)\n",
    "- get VNC working\n",
    "- do a pulse test to verify \"turn\" polarity with line sensor\n",
    "- PD tuning for line following"
   ]
  },
  {
   "cell_type": "markdown",
   "id": "insured-sleep",
   "metadata": {},
   "source": [
    "<a id='motorwiring'></a>\n",
    "\n",
    "## Re-Route Motor Wires"
   ]
  },
  {
   "cell_type": "markdown",
   "id": "muslim-symphony",
   "metadata": {},
   "source": [
    "When the cart/pendulum robots were assembled in previous years, the wires followed many different paths from the motors to the Arduino Mega motor shield.  We need to clean this up so that we free up additional options for mounting a battery pack to power the Arduinos.  To do this, please drill a hole up through the bottom of the main wooden chassis that allows the wires to go along the aluminum piece, but on the opposite side from the pendulum.  The wires should then come out near the Arduino Mega motor shield.  See the two pictures below: "
   ]
  },
  {
   "cell_type": "markdown",
   "id": "atlantic-reunion",
   "metadata": {},
   "source": [
    "<img src=\"https://drive.google.com/uc?id=16bootDfRdgMi5tMAcnbKJv-gTsQEezAP\" width=500px>"
   ]
  },
  {
   "cell_type": "markdown",
   "id": "failing-publicity",
   "metadata": {},
   "source": [
    "<img src=\"https://drive.google.com/uc?id=15kNhVufprD4LcsNRgx5pCGz9takBtFgi\" width=400px>"
   ]
  },
  {
   "cell_type": "markdown",
   "id": "collectible-replication",
   "metadata": {},
   "source": [
    "**Note:** Do not worry about attaching the wires to the Arduino Mega shield.  That will be handled in a [later section](#motorpolarity)."
   ]
  },
  {
   "cell_type": "markdown",
   "id": "suffering-magnet",
   "metadata": {},
   "source": [
    "<a id='attachpi'></a>\n",
    "\n",
    "## Attach Raspberry Pi"
   ]
  },
  {
   "cell_type": "markdown",
   "id": "asian-split",
   "metadata": {},
   "source": [
    "Raspberry Pi 4's are prone to overheating.  You need to attach the Raspberry Pi to the aluminum vertical piece using brass standoffs.  You will need to be able to reach the USB-C port on the RPi to power it.  Additionally, you may need to attache a monitor to HDMI0 for debugging at various points.  So, you need to attach the RPi with the USB-C and HDMI0 ports hanging past the Arduino Uno as shown below:"
   ]
  },
  {
   "cell_type": "markdown",
   "id": "major-person",
   "metadata": {},
   "source": [
    "<img src=\"https://drive.google.com/uc?id=16Q24KnS6Mdo4hzS-caGIMFPJBSBUm0yk\" width=500px>"
   ]
  },
  {
   "cell_type": "markdown",
   "id": "ultimate-accident",
   "metadata": {},
   "source": [
    "### Drilling the RPi Mounting Holes\n",
    "\n",
    "- remove the Arduino Uno and shift the Mega over to avoid getting metal chips on them\n",
    "    - shorting out an Arduino or RPi with an aluminum chip would be bad\n",
    "- the holes need to be drilled accurately\n",
    "    - use a screw or punch of some kind to make a dimple for the top hole to protect against the drill bit walking\n",
    "    - drill only the top hole first\n",
    "    - please be careful not to damage the encoder while drilling\n",
    "        - make sure the encoder is hanging off the edge of your drilling surface\n",
    "    - use RPi #6 for a hole drilling template (it is dead)\n",
    "    - put a screw through the top hole and hand tighten a standoff so that it is held in place while you drill the second hole\n",
    "    - see pictures below"
   ]
  },
  {
   "cell_type": "markdown",
   "id": "cordless-freight",
   "metadata": {},
   "source": [
    "### Remove or shift Arduinos"
   ]
  },
  {
   "cell_type": "markdown",
   "id": "communist-pacific",
   "metadata": {},
   "source": [
    "<img src=\"https://drive.google.com/uc?id=16tpyFLJAdW1PO3Xswh2t3m1rxwWfZwpf\" width=500px>"
   ]
  },
  {
   "cell_type": "markdown",
   "id": "tough-memorial",
   "metadata": {},
   "source": [
    "### Make a dimple"
   ]
  },
  {
   "cell_type": "markdown",
   "id": "progressive-superior",
   "metadata": {},
   "source": [
    "<img src=\"https://drive.google.com/uc?id=16x-DO1OtltUXpooYdzSJaqMVmGc4Afax\" width=500px>"
   ]
  },
  {
   "cell_type": "markdown",
   "id": "identified-marine",
   "metadata": {},
   "source": [
    "<img src=\"https://drive.google.com/uc?id=16yBZG2WaZ4hOgVsNHUzFwIcnLP0QQVOR\" width=500px>"
   ]
  },
  {
   "cell_type": "markdown",
   "id": "after-transition",
   "metadata": {},
   "source": [
    "### Make sure encoder is handing off drilling surface so you are not pushing down on its hub"
   ]
  },
  {
   "cell_type": "markdown",
   "id": "combined-wrestling",
   "metadata": {},
   "source": [
    "<img src=\"https://drive.google.com/uc?id=16ixe0xvUL9_C-RQ5YxR64FhdMOG5bN1v\" width=500px>"
   ]
  },
  {
   "cell_type": "markdown",
   "id": "extraordinary-climb",
   "metadata": {},
   "source": [
    "<img src=\"https://drive.google.com/uc?id=14Cu2cZ_y26u9cGY71Q56lMfx3ybNEKVR\" width=500px>"
   ]
  },
  {
   "cell_type": "markdown",
   "id": "jewish-palmer",
   "metadata": {},
   "source": [
    "### Put longer 2.5mm screw through top hole to hold RPi in place while you drill the second hole"
   ]
  },
  {
   "cell_type": "markdown",
   "id": "quiet-picking",
   "metadata": {},
   "source": [
    "<img src=\"https://drive.google.com/uc?id=174DDaqME07QQpp1Q2JCO4OWaSBSyjm-6\" width=500px>"
   ]
  },
  {
   "cell_type": "markdown",
   "id": "fluid-blast",
   "metadata": {},
   "source": [
    "<img src=\"https://drive.google.com/uc?id=14XZ5DlQ7MoVHz4RFyYIk7a0XxnNQ7IR4\" width=500px>"
   ]
  },
  {
   "cell_type": "markdown",
   "id": "naval-rwanda",
   "metadata": {},
   "source": [
    "### Very Important: Move Brass Standoffs to Behind RPi after drilling is done\n",
    "\n",
    "**Note:** You must **NOT** power up the RPi while its back is in contact with the aluminum piece.  This would short out the RPi very badly.  The brass standoffs **must** be between the RPi and the aluminum piece:"
   ]
  },
  {
   "cell_type": "markdown",
   "id": "mediterranean-soccer",
   "metadata": {},
   "source": [
    "<img src=\"https://drive.google.com/uc?id=1fvJxXGjDCkpeOsZvyBeUsxY817md42L7\" width=500px>"
   ]
  },
  {
   "cell_type": "code",
   "execution_count": null,
   "id": "hired-guard",
   "metadata": {},
   "outputs": [],
   "source": []
  },
  {
   "cell_type": "code",
   "execution_count": null,
   "id": "collaborative-tomato",
   "metadata": {},
   "outputs": [],
   "source": []
  },
  {
   "cell_type": "markdown",
   "id": "boxed-diagram",
   "metadata": {},
   "source": [
    "<a id='motorpolarity'></a>\n",
    "\n",
    "##  Verify Motor Wiring Polarity\n",
    "\n"
   ]
  },
  {
   "cell_type": "code",
   "execution_count": null,
   "id": "stretch-habitat",
   "metadata": {},
   "outputs": [],
   "source": []
  }
 ],
 "metadata": {
  "kernelspec": {
   "display_name": "Python 3",
   "language": "python",
   "name": "python3"
  },
  "language_info": {
   "codemirror_mode": {
    "name": "ipython",
    "version": 3
   },
   "file_extension": ".py",
   "mimetype": "text/x-python",
   "name": "python",
   "nbconvert_exporter": "python",
   "pygments_lexer": "ipython3",
   "version": "3.9.13"
  }
 },
 "nbformat": 4,
 "nbformat_minor": 5
}
