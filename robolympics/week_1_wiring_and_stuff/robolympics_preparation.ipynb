{
 "cells": [
  {
   "cell_type": "markdown",
   "id": "photographic-request",
   "metadata": {},
   "source": [
    "# Robolympics Preparation"
   ]
  },
  {
   "cell_type": "markdown",
   "id": "senior-murray",
   "metadata": {},
   "source": [
    "## Main Steps\n",
    "\n",
    "- [re-route motor wires](#motorwiring)\n",
    "- [attach RPi](#attachpi) to vertical aluminum piece\n",
    "    - with overhang for USC-C and hdmi0\n",
    "- update RPi software\n",
    "- verify that you can build RPi C code\n",
    "- [connect the level shifter](#connectlevelshifter)\n",
    "- verify i$^2$c connections\n",
    "- [verify motor wiring polarity](#motorpolarity)\n",
    "- get VNC working\n",
    "- do a pulse test to verify \"turn\" polarity with line sensor\n",
    "- PD tuning for line following"
   ]
  },
  {
   "cell_type": "markdown",
   "id": "searching-drove",
   "metadata": {
    "slideshow": {
     "slide_type": "subslide"
    }
   },
   "source": [
    "## Big Ideas\n",
    "\n",
    "- from this point forward, the `pybd_gui` will be used to generate C code for a Raspberry Pi\n",
    "- the RPi will communicate with two Arduinos using i$^2$c\n",
    "- the RPi is a 3.3V device and the Arduinos are 5V devices\n",
    "- therefore we need a level shifter between them\n",
    "- the red PCB that goes on top of the RPi contains a level shifter (the small, blue PCB)\n",
    "- i$^2$c requires four wires:\n",
    "    - GND\n",
    "    - $V_{cc}$ (3.3V for the RPi and 5V for the Arduinos\n",
    "    - `SDA` (data)\n",
    "    - `SCL` (clock)\n",
    "- the `SDA` and `SCL` signals must pass through the level shifter\n",
    "- `5V` connects to `HV` on the Arduino side of the level shifter\n",
    "- `3.3V` connects to `LV` on the RPi side of the level shifter\n",
    "- **If you connect `5V` to a Raspberry Pi, you may damage it.**\n",
    "    -  because of supply chain issues, they are very hard to find right now\n",
    "- **Note:** Raspberry Pi 4's are prone to overheat, so it is important that we allow air to circulate on all sides.\n",
    "    - we will mount the RPi's on brass standoffs to allow air behind them"
   ]
  },
  {
   "cell_type": "markdown",
   "id": "insured-sleep",
   "metadata": {},
   "source": [
    "<a id='motorwiring'></a>\n",
    "\n",
    "## Re-Route Motor Wires"
   ]
  },
  {
   "cell_type": "markdown",
   "id": "muslim-symphony",
   "metadata": {},
   "source": [
    "When the cart/pendulum robots were assembled in previous years, the wires followed many different paths from the motors to the Arduino Mega motor shield.  We need to clean this up so that we free up additional options for mounting a battery pack to power the Arduinos.  To do this, please drill a hole up through the bottom of the main wooden chassis that allows the wires to go along the aluminum piece, but on the opposite side from the pendulum.  The wires should then come out near the Arduino Mega motor shield.  See the two pictures below: "
   ]
  },
  {
   "cell_type": "markdown",
   "id": "atlantic-reunion",
   "metadata": {},
   "source": [
    "<img src=\"https://drive.google.com/uc?id=16bootDfRdgMi5tMAcnbKJv-gTsQEezAP\" width=500px>"
   ]
  },
  {
   "cell_type": "markdown",
   "id": "failing-publicity",
   "metadata": {},
   "source": [
    "<img src=\"https://drive.google.com/uc?id=15kNhVufprD4LcsNRgx5pCGz9takBtFgi\" width=400px>"
   ]
  },
  {
   "cell_type": "markdown",
   "id": "collectible-replication",
   "metadata": {},
   "source": [
    "**Note:** Do not worry about attaching the wires to the Arduino Mega shield.  That will be handled in a [later section](#motorpolarity)."
   ]
  },
  {
   "cell_type": "markdown",
   "id": "suffering-magnet",
   "metadata": {},
   "source": [
    "<a id='attachpi'></a>\n",
    "\n",
    "## Attach Raspberry Pi"
   ]
  },
  {
   "cell_type": "markdown",
   "id": "asian-split",
   "metadata": {},
   "source": [
    "Raspberry Pi 4's are prone to overheating.  You need to attach the Raspberry Pi to the aluminum vertical piece using brass standoffs.  You will need to be able to reach the USB-C port on the RPi to power it.  Additionally, you may need to attache a monitor to HDMI0 for debugging at various points.  So, you need to attach the RPi with the USB-C and HDMI0 ports hanging past the Arduino Uno as shown below:"
   ]
  },
  {
   "cell_type": "markdown",
   "id": "major-person",
   "metadata": {},
   "source": [
    "<img src=\"https://drive.google.com/uc?id=16Q24KnS6Mdo4hzS-caGIMFPJBSBUm0yk\" width=500px>"
   ]
  },
  {
   "cell_type": "markdown",
   "id": "graduate-continuity",
   "metadata": {},
   "source": [
    "### Drilling the RPi Mounting Holes\n",
    "\n",
    "- remove the Arduino Uno and shift the Mega over to avoid getting metal chips on them\n",
    "    - shorting out an Arduino or RPi with an aluminum chip would be bad\n",
    "- the holes need to be drilled accurately\n",
    "    - use a screw or punch of some kind to make a dimple for the top hole to protect against the drill bit walking\n",
    "    - drill only the top hole first\n",
    "    - please be careful not to damage the encoder while drilling\n",
    "        - make sure the encoder is hanging off the edge of your drilling surface\n",
    "    - use RPi #6 for a hole drilling template (it is dead)\n",
    "    - put a screw through the top hole and hand tighten a standoff so that it is held in place while you drill the second hole\n",
    "    - see pictures below"
   ]
  },
  {
   "cell_type": "markdown",
   "id": "straight-attack",
   "metadata": {},
   "source": [
    "### Remove or shift Arduinos"
   ]
  },
  {
   "cell_type": "markdown",
   "id": "communist-pacific",
   "metadata": {},
   "source": [
    "<img src=\"https://drive.google.com/uc?id=16tpyFLJAdW1PO3Xswh2t3m1rxwWfZwpf\" width=500px>"
   ]
  },
  {
   "cell_type": "markdown",
   "id": "starting-heart",
   "metadata": {},
   "source": [
    "### Make a dimple"
   ]
  },
  {
   "cell_type": "markdown",
   "id": "progressive-superior",
   "metadata": {},
   "source": [
    "<img src=\"https://drive.google.com/uc?id=16x-DO1OtltUXpooYdzSJaqMVmGc4Afax\" width=500px>"
   ]
  },
  {
   "cell_type": "markdown",
   "id": "identified-marine",
   "metadata": {},
   "source": [
    "<img src=\"https://drive.google.com/uc?id=16yBZG2WaZ4hOgVsNHUzFwIcnLP0QQVOR\" width=500px>"
   ]
  },
  {
   "cell_type": "markdown",
   "id": "voluntary-frost",
   "metadata": {},
   "source": [
    "### Make sure encoder is handing off drilling surface so you are not pushing down on its hub"
   ]
  },
  {
   "cell_type": "markdown",
   "id": "combined-wrestling",
   "metadata": {},
   "source": [
    "<img src=\"https://drive.google.com/uc?id=16ixe0xvUL9_C-RQ5YxR64FhdMOG5bN1v\" width=500px>"
   ]
  },
  {
   "cell_type": "markdown",
   "id": "extraordinary-climb",
   "metadata": {},
   "source": [
    "<img src=\"https://drive.google.com/uc?id=14Cu2cZ_y26u9cGY71Q56lMfx3ybNEKVR\" width=500px>"
   ]
  },
  {
   "cell_type": "markdown",
   "id": "authorized-samba",
   "metadata": {},
   "source": [
    "### Put longer 2.5mm screw through top hole to hold RPi in place while you drill the second hole"
   ]
  },
  {
   "cell_type": "markdown",
   "id": "quiet-picking",
   "metadata": {},
   "source": [
    "<img src=\"https://drive.google.com/uc?id=174DDaqME07QQpp1Q2JCO4OWaSBSyjm-6\" width=500px>"
   ]
  },
  {
   "cell_type": "markdown",
   "id": "fluid-blast",
   "metadata": {},
   "source": [
    "<img src=\"https://drive.google.com/uc?id=14XZ5DlQ7MoVHz4RFyYIk7a0XxnNQ7IR4\" width=500px>"
   ]
  },
  {
   "cell_type": "markdown",
   "id": "forward-nature",
   "metadata": {},
   "source": [
    "### Very Important: Move Brass Standoffs to Behind RPi after drilling is done\n",
    "\n",
    "**Note:** You must **NOT** power up the RPi while its back is in contact with the aluminum piece.  This would short out the RPi very badly.  The brass standoffs **must** be between the RPi and the aluminum piece:"
   ]
  },
  {
   "cell_type": "markdown",
   "id": "mediterranean-soccer",
   "metadata": {},
   "source": [
    "<img src=\"https://drive.google.com/uc?id=1fvJxXGjDCkpeOsZvyBeUsxY817md42L7\" width=500px>"
   ]
  },
  {
   "cell_type": "code",
   "execution_count": null,
   "id": "present-eight",
   "metadata": {},
   "outputs": [],
   "source": []
  },
  {
   "cell_type": "markdown",
   "id": "backed-popularity",
   "metadata": {},
   "source": [
    "<a id='connectlevelshifter'></a>\n",
    "\n",
    "## Connect Level Shifter"
   ]
  },
  {
   "cell_type": "markdown",
   "id": "floral-geometry",
   "metadata": {},
   "source": [
    "### Two Versions of the Level Shifter Hat"
   ]
  },
  {
   "cell_type": "markdown",
   "id": "breathing-valve",
   "metadata": {},
   "source": [
    "A PCB that attaches to an Arduino is called a shield (the Arduino people just made that up).  For whatever reasons, Raspberry Pi people decided to call their PCB's hats.  \n",
    "\n",
    "There are two versions of the level shifter hat as shown below"
   ]
  },
  {
   "cell_type": "markdown",
   "id": "infinite-implementation",
   "metadata": {},
   "source": [
    "<img src=\"https://drive.google.com/uc?id=17kqEUa4qldTGYS4GdhmoBlBRwUGBUoFi\" width=500px>"
   ]
  },
  {
   "cell_type": "markdown",
   "id": "nasty-municipality",
   "metadata": {},
   "source": [
    "Version A on the left has the `SDA` and `SCL` wires on the front of the hat.  Version B on the right has those wires on the back as shown below:"
   ]
  },
  {
   "cell_type": "markdown",
   "id": "numerical-madness",
   "metadata": {},
   "source": [
    "<img src=\"https://drive.google.com/uc?id=1837ZeTIzj-jpiWDQF6WN6pFSpRX07Gr1\" width=300px>"
   ]
  },
  {
   "cell_type": "markdown",
   "id": "herbal-discipline",
   "metadata": {},
   "source": [
    "Once you have your RPi mounted on the brass standoffs, you are ready to attach the hat and make the connections to the Arduinos:"
   ]
  },
  {
   "cell_type": "markdown",
   "id": "rapid-effect",
   "metadata": {},
   "source": [
    "<img src=\"https://drive.google.com/uc?id=18BOzmnBxxeEuUiEn_v1lI4IMmTro6XkG\" width=500px>"
   ]
  },
  {
   "cell_type": "markdown",
   "id": "static-auckland",
   "metadata": {},
   "source": [
    "On an Arduino Mega, `SDA` is pin 20 and `SCL` is pin 21:"
   ]
  },
  {
   "cell_type": "markdown",
   "id": "august-office",
   "metadata": {},
   "source": [
    "<img src=\"https://drive.google.com/uc?id=18eIGcncreKly1d826Xqf-BrDlz1hW_QN\" width=500px>"
   ]
  },
  {
   "cell_type": "markdown",
   "id": "prerequisite-queens",
   "metadata": {},
   "source": [
    "On an Uno, `SDA` is pin `A4` and `SCL` is pin `A5`.  These are the same pins you used to connect the accelerometer in a previous lab (that acceleromter uses i$^2$c as well)."
   ]
  },
  {
   "cell_type": "markdown",
   "id": "boxed-diagram",
   "metadata": {},
   "source": [
    "<a id='motorpolarity'></a>\n",
    "\n",
    "##  Verify Motor Wiring Polarity\n",
    "\n"
   ]
  },
  {
   "cell_type": "code",
   "execution_count": null,
   "id": "stretch-habitat",
   "metadata": {},
   "outputs": [],
   "source": []
  }
 ],
 "metadata": {
  "kernelspec": {
   "display_name": "Python 3",
   "language": "python",
   "name": "python3"
  },
  "language_info": {
   "codemirror_mode": {
    "name": "ipython",
    "version": 3
   },
   "file_extension": ".py",
   "mimetype": "text/x-python",
   "name": "python",
   "nbconvert_exporter": "python",
   "pygments_lexer": "ipython3",
   "version": "3.9.13"
  }
 },
 "nbformat": 4,
 "nbformat_minor": 5
}
