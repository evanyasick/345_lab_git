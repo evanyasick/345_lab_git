{
 "cells": [
  {
   "cell_type": "markdown",
   "id": "sonic-nylon",
   "metadata": {},
   "source": [
    "# Robolympics Preparation"
   ]
  },
  {
   "cell_type": "markdown",
   "id": "dynamic-likelihood",
   "metadata": {},
   "source": [
    "## First Steps\n",
    "\n",
    "- `cd 345_lab_git`\n",
    "- `git pull origin main`\n",
    "    - retrieves latest lab content\n",
    "- `upgrade_pybd_pip_stuff.sh`\n",
    "    - update Dr. Krauss' python packages"
   ]
  },
  {
   "cell_type": "markdown",
   "id": "parallel-bacteria",
   "metadata": {},
   "source": [
    "## Main Steps\n",
    "\n",
    "- [re-route motor wires](#motorwiring)\n",
    "- [attach RPi](#attachpi) to vertical aluminum piece\n",
    "    - with overhang for USC-C and hdmi0\n",
    "- [update RPi software](#swupdate)\n",
    "- [verify that you can build RPi C code](#rpibuildverify)\n",
    "- [connect the level shifter](#connectlevelshifter)\n",
    "- [verify i$^2$c connections](#i2cverify)\n",
    "- [get VNC working](#getvncworking)\n",
    "- [verify motor wiring polarity](#motorpolarity)\n",
    "- do a pulse test to verify \"turn\" polarity with line sensor\n",
    "- PD tuning for line following"
   ]
  },
  {
   "cell_type": "markdown",
   "id": "painful-sheep",
   "metadata": {
    "slideshow": {
     "slide_type": "subslide"
    }
   },
   "source": [
    "## Big Ideas\n",
    "\n",
    "- from this point forward, the `pybd_gui` will be used to generate C code for a Raspberry Pi\n",
    "- the RPi will communicate with two Arduinos using i$^2$c\n",
    "- the RPi is a 3.3V device and the Arduinos are 5V devices\n",
    "- therefore we need a level shifter between them\n",
    "- the red PCB that goes on top of the RPi contains a level shifter (the small, blue PCB)\n",
    "- i$^2$c requires four wires:\n",
    "    - GND\n",
    "    - $V_{cc}$ (3.3V for the RPi and 5V for the Arduinos\n",
    "    - `SDA` (data)\n",
    "    - `SCL` (clock)\n",
    "- the `SDA` and `SCL` signals must pass through the level shifter\n",
    "- `5V` connects to `HV` on the Arduino side of the level shifter\n",
    "- `3.3V` connects to `LV` on the RPi side of the level shifter\n",
    "- **If you connect `5V` to a Raspberry Pi, you may damage it.**\n",
    "    -  because of supply chain issues, they are very hard to find right now\n",
    "- **Note:** Raspberry Pi 4's are prone to overheat, so it is important that we allow air to circulate on all sides.\n",
    "    - we will mount the RPi's on brass standoffs to allow air behind them"
   ]
  },
  {
   "cell_type": "markdown",
   "id": "lovely-marble",
   "metadata": {},
   "source": [
    "<a id='motorwiring'></a>\n",
    "\n",
    "## Re-Route Motor Wires"
   ]
  },
  {
   "cell_type": "markdown",
   "id": "separate-declaration",
   "metadata": {},
   "source": [
    "When the cart/pendulum robots were assembled in previous years, the wires followed many different paths from the motors to the Arduino Mega motor shield.  We need to clean this up so that we free up additional options for mounting a battery pack to power the Arduinos.  To do this, please drill a hole up through the bottom of the main wooden chassis that allows the wires to go along the aluminum piece, but on the opposite side from the pendulum.  The wires should then come out near the Arduino Mega motor shield.  See the two pictures below: "
   ]
  },
  {
   "cell_type": "markdown",
   "id": "gross-device",
   "metadata": {},
   "source": [
    "<img src=\"https://drive.google.com/uc?id=16bootDfRdgMi5tMAcnbKJv-gTsQEezAP\" width=500px>"
   ]
  },
  {
   "cell_type": "markdown",
   "id": "august-criticism",
   "metadata": {},
   "source": [
    "<img src=\"https://drive.google.com/uc?id=15kNhVufprD4LcsNRgx5pCGz9takBtFgi\" width=400px>"
   ]
  },
  {
   "cell_type": "markdown",
   "id": "enabling-differential",
   "metadata": {},
   "source": [
    "**Note:** Do not worry about attaching the wires to the Arduino Mega shield.  That will be handled in a [later section](#motorpolarity)."
   ]
  },
  {
   "cell_type": "markdown",
   "id": "modern-persian",
   "metadata": {},
   "source": [
    "<a id='attachpi'></a>\n",
    "\n",
    "## Attach Raspberry Pi"
   ]
  },
  {
   "cell_type": "markdown",
   "id": "virtual-checkout",
   "metadata": {},
   "source": [
    "Raspberry Pi 4's are prone to overheating.  You need to attach the Raspberry Pi to the aluminum vertical piece using brass standoffs.  You will need to be able to reach the USB-C port on the RPi to power it.  Additionally, you may need to attache a monitor to HDMI0 for debugging at various points.  So, you need to attach the RPi with the USB-C and HDMI0 ports hanging past the Arduino Uno as shown below:"
   ]
  },
  {
   "cell_type": "markdown",
   "id": "atmospheric-clarity",
   "metadata": {},
   "source": [
    "<img src=\"https://drive.google.com/uc?id=16Q24KnS6Mdo4hzS-caGIMFPJBSBUm0yk\" width=500px>"
   ]
  },
  {
   "cell_type": "markdown",
   "id": "severe-lithuania",
   "metadata": {},
   "source": [
    "### Drilling the RPi Mounting Holes\n",
    "\n",
    "- remove the Arduino Uno and shift the Mega over to avoid getting metal chips on them\n",
    "    - shorting out an Arduino or RPi with an aluminum chip would be bad\n",
    "- the holes need to be drilled accurately\n",
    "    - use a screw or punch of some kind to make a dimple for the top hole to protect against the drill bit walking\n",
    "    - drill only the top hole first\n",
    "    - please be careful not to damage the encoder while drilling\n",
    "        - make sure the encoder is hanging off the edge of your drilling surface\n",
    "    - use RPi #6 for a hole drilling template (it is dead)\n",
    "    - put a screw through the top hole and hand tighten a standoff so that it is held in place while you drill the second hole\n",
    "    - see pictures below"
   ]
  },
  {
   "cell_type": "markdown",
   "id": "coordinated-mixer",
   "metadata": {},
   "source": [
    "### Remove or shift Arduinos"
   ]
  },
  {
   "cell_type": "markdown",
   "id": "external-horror",
   "metadata": {},
   "source": [
    "<img src=\"https://drive.google.com/uc?id=16tpyFLJAdW1PO3Xswh2t3m1rxwWfZwpf\" width=500px>"
   ]
  },
  {
   "cell_type": "markdown",
   "id": "quarterly-rhythm",
   "metadata": {},
   "source": [
    "### Make a dimple"
   ]
  },
  {
   "cell_type": "markdown",
   "id": "technical-numbers",
   "metadata": {},
   "source": [
    "<img src=\"https://drive.google.com/uc?id=16x-DO1OtltUXpooYdzSJaqMVmGc4Afax\" width=500px>"
   ]
  },
  {
   "cell_type": "markdown",
   "id": "temporal-dutch",
   "metadata": {},
   "source": [
    "<img src=\"https://drive.google.com/uc?id=16yBZG2WaZ4hOgVsNHUzFwIcnLP0QQVOR\" width=500px>"
   ]
  },
  {
   "cell_type": "markdown",
   "id": "further-screw",
   "metadata": {},
   "source": [
    "### Make sure encoder is handing off drilling surface so you are not pushing down on its hub"
   ]
  },
  {
   "cell_type": "markdown",
   "id": "future-meter",
   "metadata": {},
   "source": [
    "<img src=\"https://drive.google.com/uc?id=16ixe0xvUL9_C-RQ5YxR64FhdMOG5bN1v\" width=500px>"
   ]
  },
  {
   "cell_type": "markdown",
   "id": "occasional-notification",
   "metadata": {},
   "source": [
    "<img src=\"https://drive.google.com/uc?id=14Cu2cZ_y26u9cGY71Q56lMfx3ybNEKVR\" width=500px>"
   ]
  },
  {
   "cell_type": "markdown",
   "id": "certain-pharmacology",
   "metadata": {},
   "source": [
    "### Put longer 2.5mm screw through top hole to hold RPi in place while you drill the second hole"
   ]
  },
  {
   "cell_type": "markdown",
   "id": "impressed-classification",
   "metadata": {},
   "source": [
    "<img src=\"https://drive.google.com/uc?id=174DDaqME07QQpp1Q2JCO4OWaSBSyjm-6\" width=500px>"
   ]
  },
  {
   "cell_type": "markdown",
   "id": "common-permit",
   "metadata": {},
   "source": [
    "<img src=\"https://drive.google.com/uc?id=14XZ5DlQ7MoVHz4RFyYIk7a0XxnNQ7IR4\" width=500px>"
   ]
  },
  {
   "cell_type": "markdown",
   "id": "japanese-meaning",
   "metadata": {},
   "source": [
    "### Very Important: Move Brass Standoffs to Behind RPi after drilling is done\n",
    "\n",
    "**Note:** You must **NOT** power up the RPi while its back is in contact with the aluminum piece.  This would short out the RPi very badly.  The brass standoffs **must** be between the RPi and the aluminum piece:"
   ]
  },
  {
   "cell_type": "markdown",
   "id": "thick-helen",
   "metadata": {},
   "source": [
    "<img src=\"https://drive.google.com/uc?id=1fvJxXGjDCkpeOsZvyBeUsxY817md42L7\" width=500px>"
   ]
  },
  {
   "cell_type": "markdown",
   "id": "german-trust",
   "metadata": {},
   "source": [
    "<a id='swupdate'></a>\n",
    "\n",
    "## Update RPi Software"
   ]
  },
  {
   "cell_type": "markdown",
   "id": "artificial-belief",
   "metadata": {},
   "source": [
    "Assuming you have used `git pull origin main` to get the latest content in `345_lab_git` and have also updated Dr. Krauss' Python packages using the command `upgrade_pybd_pip_stuff.sh`, there is one more thing to do for this week.  There is a script that calls a few other scripts to get you ready to RPi stuff.  \n",
    "\n",
    "Execute this command:\n",
    "\n",
    "`sw_update_10_20_22.sh`"
   ]
  },
  {
   "cell_type": "markdown",
   "id": "adjacent-teddy",
   "metadata": {},
   "source": [
    "<a id='rpibuildverify'></a>\n",
    "\n",
    "## Verify that you can build RPi Software"
   ]
  },
  {
   "cell_type": "markdown",
   "id": "cutting-legislature",
   "metadata": {},
   "source": [
    "There is a lot going on behind the scenes when you click the check mark and right arrow in the Arduino IDE.  I have created a script that does similar things on a Raspberry Pi.  The command is called `rpibd_build.py`.  The command requires one positional argument, the name of the C file to complile:\n",
    "\n",
    "`rpibd_build.py filename.c`"
   ]
  },
  {
   "cell_type": "markdown",
   "id": "hearing-membership",
   "metadata": {},
   "source": [
    "Assuming your `git pull` command finished successfully, you should be able to go to the following folder:\n",
    "\n",
    "`cd ~/345_lab_git/robolympics/week_1_wiring_and_stuff`"
   ]
  },
  {
   "cell_type": "markdown",
   "id": "shaped-saint",
   "metadata": {},
   "source": [
    "In that folder should be a C file called `rpi_i2c_loop_test.c`.  Copy that C file to your team's lab folder and then verify that you can compile that file using the command:\n",
    "\n",
    "`rpibd_build.py rpi_i2c_loop_test.c`"
   ]
  },
  {
   "cell_type": "markdown",
   "id": "alert-subsection",
   "metadata": {},
   "source": [
    "<a id='connectlevelshifter'></a>\n",
    "\n",
    "## Connect Level Shifter"
   ]
  },
  {
   "cell_type": "markdown",
   "id": "stuffed-examination",
   "metadata": {},
   "source": [
    "### Two Versions of the Level Shifter Hat"
   ]
  },
  {
   "cell_type": "markdown",
   "id": "regulation-summary",
   "metadata": {},
   "source": [
    "A PCB that attaches to an Arduino is called a shield (the Arduino people just made that up).  For whatever reasons, Raspberry Pi people decided to call their PCB's hats.  \n",
    "\n",
    "There are two versions of the level shifter hat as shown below"
   ]
  },
  {
   "cell_type": "markdown",
   "id": "sunset-farming",
   "metadata": {},
   "source": [
    "<img src=\"https://drive.google.com/uc?id=17kqEUa4qldTGYS4GdhmoBlBRwUGBUoFi\" width=500px>"
   ]
  },
  {
   "cell_type": "markdown",
   "id": "typical-agreement",
   "metadata": {},
   "source": [
    "Version A on the left has the `SDA` and `SCL` wires on the front of the hat.  Version B on the right has those wires on the back as shown below:"
   ]
  },
  {
   "cell_type": "markdown",
   "id": "integrated-fisher",
   "metadata": {},
   "source": [
    "<img src=\"https://drive.google.com/uc?id=1837ZeTIzj-jpiWDQF6WN6pFSpRX07Gr1\" width=300px>"
   ]
  },
  {
   "cell_type": "markdown",
   "id": "descending-worry",
   "metadata": {},
   "source": [
    "Once you have your RPi mounted on the brass standoffs, you are ready to attach the hat and make the connections to the Arduinos:"
   ]
  },
  {
   "cell_type": "markdown",
   "id": "vocational-scenario",
   "metadata": {},
   "source": [
    "<img src=\"https://drive.google.com/uc?id=18BOzmnBxxeEuUiEn_v1lI4IMmTro6XkG\" width=500px>"
   ]
  },
  {
   "cell_type": "markdown",
   "id": "timely-animal",
   "metadata": {},
   "source": [
    "On an Arduino Mega, `SDA` is pin 20 and `SCL` is pin 21:"
   ]
  },
  {
   "cell_type": "markdown",
   "id": "liquid-hanging",
   "metadata": {},
   "source": [
    "<img src=\"https://drive.google.com/uc?id=18eIGcncreKly1d826Xqf-BrDlz1hW_QN\" width=500px>"
   ]
  },
  {
   "cell_type": "markdown",
   "id": "useful-revelation",
   "metadata": {},
   "source": [
    "On an Uno, `SDA` is pin `A4` and `SCL` is pin `A5`.  These are the same pins you used to connect the accelerometer in a previous lab (that acceleromter uses i$^2$c as well)."
   ]
  },
  {
   "cell_type": "markdown",
   "id": "statutory-taylor",
   "metadata": {},
   "source": [
    "<a id='i2cverify'></a>\n",
    "\n",
    "##  Verify i$^2$c Connections\n"
   ]
  },
  {
   "cell_type": "markdown",
   "id": "narrative-program",
   "metadata": {},
   "source": [
    "In this step, we want to verify that the RPi and Arduio Mega can talk to each other over i$^2$c.  Before you can do this, you need to program the Mega using the Arduino code `cart_mega_code_i2c_wiringpi.ino` which should be in the `robolympics` folder under `345_lab_git`."
   ]
  },
  {
   "cell_type": "markdown",
   "id": "designed-order",
   "metadata": {},
   "source": [
    "Assuming you were able to build `rpi_i2c_loop_test.c` in a previous step, you should be able to run that code once the i$2$c connections have been made and the Arduino Mega has been reprogrammed.  A successful test will print multiple messages to the RPi terminal and the last two lines should say\n",
    "\n",
    "`any_fail = 0`\n",
    "\n",
    "`num_fail = 0`"
   ]
  },
  {
   "cell_type": "markdown",
   "id": "standard-chorus",
   "metadata": {},
   "source": [
    "<a id='getvncworking'></a>\n",
    "\n",
    "##  Verify Working\n",
    "\n"
   ]
  },
  {
   "cell_type": "markdown",
   "id": "requested-seeker",
   "metadata": {},
   "source": [
    "In order to drive the robots around without wires attached to them (which would be lamne), we need to use a remote desktop application called VNC.  You will need the VNC viewer application on your laptop (one per team).  If you google \"vnc viewer\", you should find this link:\n",
    "\n",
    "[https://www.realvnc.com/en/connect/download/viewer/](https://www.realvnc.com/en/connect/download/viewer/)\n",
    "\n"
   ]
  },
  {
   "cell_type": "markdown",
   "id": "directed-healing",
   "metadata": {},
   "source": [
    "Before you can log into your RPi, you need to know the static IP address of the RPi.  If you type the command `ifconfig`, it should print the ip address for `wlan0`.   Only the last three digits of the IP addresses are different from one another.  They should all be of the form `35.40.171.XXX`.  Write the IP address down somewhere so you can type it into VNC viewer on your laptop."
   ]
  },
  {
   "cell_type": "markdown",
   "id": "behavioral-intersection",
   "metadata": {},
   "source": [
    "<a id='motorpolarity'></a>\n",
    "\n",
    "##  Verify Motor Wiring Polarity\n",
    "\n"
   ]
  },
  {
   "cell_type": "markdown",
   "id": "stainless-consistency",
   "metadata": {},
   "source": [
    "You need to verify that the motor wires are connected to the Arduino Mega motor shield correctly.  There are two stages to this:\n",
    "\n",
    "- use C code from Dr. Krauss to test the right wheel wiring\n",
    "- create a block diagram that sends forward and backward pulses to each wheel one at a time and generate and run your own C code from that block diagram\n",
    "\n",
    "### Right Wheel from Dr. Krauss' C code\n",
    "\n",
    "In the folder `~/345_lab_git/robolympics/week_1_wiring_and_stuff` there should be a file called `right_wheel_wiring_test.c`.  Copy this file to your team's lab folder and compile it using the command `rpibd_build.py`.  \n",
    "\n",
    "Before running your When you run this code, answer no (n) to calibrating and it should "
   ]
  },
  {
   "cell_type": "code",
   "execution_count": null,
   "id": "standard-controversy",
   "metadata": {},
   "outputs": [],
   "source": []
  }
 ],
 "metadata": {
  "kernelspec": {
   "display_name": "Python 3",
   "language": "python",
   "name": "python3"
  },
  "language_info": {
   "codemirror_mode": {
    "name": "ipython",
    "version": 3
   },
   "file_extension": ".py",
   "mimetype": "text/x-python",
   "name": "python",
   "nbconvert_exporter": "python",
   "pygments_lexer": "ipython3",
   "version": "3.9.13"
  }
 },
 "nbformat": 4,
 "nbformat_minor": 5
}
